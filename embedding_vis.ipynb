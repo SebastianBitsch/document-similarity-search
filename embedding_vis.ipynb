{
 "cells": [
  {
   "cell_type": "code",
   "execution_count": 1,
   "metadata": {
    "collapsed": true,
    "pycharm": {
     "name": "#%%\n"
    }
   },
   "outputs": [],
   "source": [
    "import pandas as pd\n",
    "import numpy as np\n",
    "from sklearn.decomposition import PCA\n",
    "from sentence_transformers import SentenceTransformer\n",
    "import torch\n",
    "import matplotlib.pyplot as plt\n",
    "import matplotlib.patches as mpatches\n",
    "from matplotlib.pyplot import figure\n",
    "import os\n",
    "import warnings\n",
    "warnings.filterwarnings(\"ignore\")\n"
   ]
  },
  {
   "cell_type": "code",
   "execution_count": null,
   "outputs": [],
   "source": [
    "generate_plots = False ### Time estimate: 15 minutes\n",
    "\n",
    "\n"
   ],
   "metadata": {
    "collapsed": false,
    "pycharm": {
     "name": "#%%\n"
    }
   }
  },
  {
   "cell_type": "code",
   "execution_count": 2,
   "outputs": [
    {
     "name": "stdout",
     "output_type": "stream",
     "text": [
      "Loading full data\n",
      "Loading model\n",
      "Index(['id', 'country', 'name', 'NACE', 'description',\n",
      "       'description_no_stopwords', 'description_no_stopwords_stemmed'],\n",
      "      dtype='object')\n"
     ]
    }
   ],
   "source": [
    "full_data = pd.read_csv(\"data/processed_data/cleaned_v1.csv\")\n",
    "embeddings = torch.load('corpus_embeddings_bi_encoder.pt')\n",
    "\n",
    "print(full_data.columns)"
   ],
   "metadata": {
    "collapsed": false,
    "pycharm": {
     "name": "#%%\n"
    }
   }
  },
  {
   "cell_type": "code",
   "execution_count": 3,
   "outputs": [],
   "source": [
    "def firmnav_id_toIndex(firmnav_id):\n",
    "    return full_data.index[full_data['id'] == firmnav_id].tolist()\n",
    "\n",
    "def firmnav_index_toEmbedding(firmnav_index):\n",
    "    return embeddings[firmnav_index]\n",
    "\n",
    "def firmnav_idArray_toIndexArray(idArray):\n",
    "    newArray = [firmnav_id_toIndex(id) for id in idArray]\n",
    "    return newArray\n",
    "\n",
    "def decrease_array_depth(array):\n",
    "    newArray = []\n",
    "    for item in array:\n",
    "        if not item == []:\n",
    "            newArray += [item[0]]\n",
    "    return newArray\n"
   ],
   "metadata": {
    "collapsed": false,
    "pycharm": {
     "name": "#%%\n"
    }
   }
  },
  {
   "cell_type": "code",
   "execution_count": 4,
   "outputs": [],
   "source": [
    "def getIndexArrays(file_path, separator=';'):\n",
    "    df = pd.read_csv(file_path, sep=separator)\n",
    "\n",
    "    pos_init = df.loc[df['Rating'] == 1.0].loc[df['AI search'] == 'Initial']['Firmnav ID']\n",
    "    pos_res = df.loc[df['Rating'] == 1.0][df['AI search'].isna()]['Firmnav ID']\n",
    "    neg_res = df.loc[df['Rating'] == 0.0][df['AI search'].isna()]['Firmnav ID']\n",
    "\n",
    "    init_i = decrease_array_depth(firmnav_idArray_toIndexArray(pos_init))\n",
    "    pos_i = decrease_array_depth(firmnav_idArray_toIndexArray(pos_res))\n",
    "    neg_i = decrease_array_depth(firmnav_idArray_toIndexArray(neg_res))\n",
    "\n",
    "    return init_i, pos_i, neg_i"
   ],
   "metadata": {
    "collapsed": false,
    "pycharm": {
     "name": "#%%\n"
    }
   }
  },
  {
   "cell_type": "code",
   "execution_count": 4,
   "outputs": [],
   "source": [],
   "metadata": {
    "collapsed": false,
    "pycharm": {
     "name": "#%%\n"
    }
   }
  },
  {
   "cell_type": "code",
   "execution_count": 5,
   "outputs": [],
   "source": [
    "principal_components_k = 50\n",
    "\n",
    "pca_model = PCA(n_components=principal_components_k)\n",
    "principal_components_train = pca_model.fit_transform(embeddings)\n",
    "transposed = np.array(principal_components_train).T\n",
    "explained_variance = pca_model.explained_variance_ratio_\n",
    "\n",
    "summ = explained_variance.sum()\n",
    "cumsum = 0\n",
    "total_var_explained = np.zeros(principal_components_k)\n",
    "for i in range(principal_components_k):\n",
    "    cumsum = cumsum + explained_variance[i]\n",
    "    total_var_explained[i]=(cumsum/summ)\n",
    "\n",
    "\n"
   ],
   "metadata": {
    "collapsed": false,
    "pycharm": {
     "name": "#%%\n"
    }
   }
  },
  {
   "cell_type": "code",
   "execution_count": 6,
   "outputs": [
    {
     "name": "stdout",
     "output_type": "stream",
     "text": [
      "1.0\n"
     ]
    },
    {
     "data": {
      "text/plain": "<Figure size 432x288 with 1 Axes>",
      "image/png": "[encoded data removed]"
     },
     "metadata": {
      "needs_background": "light"
     },
     "output_type": "display_data"
    }
   ],
   "source": [
    "total_var_explained_trainPCA = np.array(total_var_explained)\n",
    "\n",
    "print(total_var_explained[principal_components_k-1])\n",
    "plt.plot(range(1,principal_components_k+1),total_var_explained,\"--*\")\n",
    "plt.grid();\n",
    "plt.title('SBERT Explained Variance of n Principal Components')\n",
    "plt.xlabel('n Principal components')\n",
    "plt.axis((None,None,0,1))\n",
    "plt.show();"
   ],
   "metadata": {
    "collapsed": false,
    "pycharm": {
     "name": "#%%\n"
    }
   }
  },
  {
   "cell_type": "code",
   "execution_count": 7,
   "outputs": [],
   "source": [
    "pop_a = mpatches.Patch(color='blue', label='initial')\n",
    "pop_b = mpatches.Patch(color='green', label='positive')\n",
    "pop_c = mpatches.Patch(color='red', label='negative')"
   ],
   "metadata": {
    "collapsed": false,
    "pycharm": {
     "name": "#%%\n"
    }
   }
  },
  {
   "cell_type": "code",
   "execution_count": 8,
   "outputs": [
    {
     "name": "stdout",
     "output_type": "stream",
     "text": [
      "60122\n",
      "60122\n"
     ]
    }
   ],
   "source": [
    "print(len(full_data[\"description\"]))\n",
    "print(len(embeddings))"
   ],
   "metadata": {
    "collapsed": false,
    "pycharm": {
     "name": "#%%\n"
    }
   }
  },
  {
   "cell_type": "code",
   "execution_count": 16,
   "outputs": [
    {
     "name": "stdout",
     "output_type": "stream",
     "text": [
      "Plotting IT freelance...\n",
      "Plotting PE fund...\n",
      "Plotting M&A advisors...\n",
      "Plotting IoT...\n",
      "Plotting Procurement software...\n",
      "Plotting Manufacturers...\n",
      "Plotting Resource-efficiency...\n",
      "Plotting Computer vision...\n",
      "Plotting Industrial vertical investor...\n",
      "Plotting Healthcare...\n",
      "Plotting Online games...\n",
      "Plotting Consulting...\n",
      "Plotting Payments tech...\n",
      "Plotting Fish processing equipment...\n",
      "Plotting Innovative...\n",
      "Plotting House builders...\n",
      "Plotting Sustainability...\n",
      "Plotting Fintech...\n",
      "Plotting Wind turbine tech...\n",
      "Plotting SaaS...\n",
      "DONE\n"
     ]
    }
   ],
   "source": [
    "def plot_pca(filepath, title, component_a, component_b, n_other_samples, filename=False):\n",
    "    figure(figsize=(5, 4), dpi=120)\n",
    "\n",
    "    init_index_file, positive_index_file, negative_index_file = getIndexArrays(filepath)\n",
    "\n",
    "    for x, y in zip(transposed[component_a,:n_other_samples], transposed[component_b,:n_other_samples]):\n",
    "        plt.plot(x,y,\".\", color='black', alpha=0.1)\n",
    "\n",
    "    for x, y in zip(transposed[component_a,negative_index_file], transposed[component_b,negative_index_file]):\n",
    "        plt.plot(x,y,\"v\", color='red', alpha=0.6)\n",
    "\n",
    "    for x, y in zip(transposed[component_a,positive_index_file], transposed[component_b,positive_index_file]):\n",
    "        plt.plot(x,y,\"^\", color='green', alpha=0.6)\n",
    "\n",
    "    for x, y in zip(transposed[component_a,init_index_file], transposed[component_b,init_index_file]):\n",
    "        plt.plot(x,y,\"s\", color='blue', alpha=0.6)\n",
    "\n",
    "    plt.legend(handles=[pop_a,pop_b, pop_c])\n",
    "    plt.title(title)\n",
    "    plt.xlabel(f'PC{component_a+1}')\n",
    "    plt.ylabel(f'PC{component_b+1}')\n",
    "    plt.xticks([], [])\n",
    "    plt.yticks([], [])\n",
    "    if filename:\n",
    "        path = f'SBERT PCA figures/PC{component_a+1},PC{component_b+1}/{filename}.jpg'\n",
    "        isExist = os.path.exists(f'SBERT PCA figures/PC{component_a+1},PC{component_b+1}')\n",
    "        if not isExist:\n",
    "            os.mkdir(f'SBERT PCA figures/PC{component_a+1},PC{component_b+1}')\n",
    "        plt.savefig(f'SBERT PCA figures/PC{component_a+1},PC{component_b+1}/{filename}.jpg')\n",
    "    else:\n",
    "        plt.savefig(f'SBERT PCA figures/{title}.jpg')\n",
    "\n",
    "    plt.close()\n",
    "\n",
    "def plot_all_train(plots_per_file, n_other_samples):\n",
    "    filenames = os.listdir('data/train')\n",
    "    titles = [str.replace(\".csv\", \"\") for str in filenames]\n",
    "\n",
    "    for i in range(len(filenames)):\n",
    "        path = 'data/train/' + filenames[i]\n",
    "        print(f\"Plotting {titles[i]}...\")\n",
    "        for j in range(plots_per_file):\n",
    "            c_a = j\n",
    "            c_b = j+1\n",
    "\n",
    "            fig_title = titles[i] + f' SBERT Embeddings: PC{j+1} vs PC{j+2}'\n",
    "            filename = titles[i]\n",
    "\n",
    "            plot_pca(path, fig_title, c_a, c_b, n_other_samples, filename)\n",
    "\n",
    "if generate_plots:\n",
    "    plot_all_train(4, 2500)\n",
    "    print(\"DONE\")"
   ],
   "metadata": {
    "collapsed": false,
    "pycharm": {
     "name": "#%%\n"
    }
   }
  },
  {
   "cell_type": "code",
   "execution_count": 33,
   "outputs": [
    {
     "ename": "ValueError",
     "evalue": "cannot convert float NaN to integer",
     "output_type": "error",
     "traceback": [
      "\u001B[0;31m---------------------------------------------------------------------------\u001B[0m",
      "\u001B[0;31mValueError\u001B[0m                                Traceback (most recent call last)",
      "\u001B[0;32m<ipython-input-33-bc0b8c772326>\u001B[0m in \u001B[0;36m<module>\u001B[0;34m\u001B[0m\n\u001B[1;32m     28\u001B[0m     \u001B[0mplt\u001B[0m\u001B[0;34m.\u001B[0m\u001B[0mclose\u001B[0m\u001B[0;34m(\u001B[0m\u001B[0;34m)\u001B[0m\u001B[0;34m\u001B[0m\u001B[0;34m\u001B[0m\u001B[0m\n\u001B[1;32m     29\u001B[0m \u001B[0;34m\u001B[0m\u001B[0m\n\u001B[0;32m---> 30\u001B[0;31m \u001B[0mprint\u001B[0m\u001B[0;34m(\u001B[0m\u001B[0mfirmnav_id_toNACE\u001B[0m\u001B[0;34m(\u001B[0m\u001B[0;34m'SE5592101991'\u001B[0m\u001B[0;34m)\u001B[0m\u001B[0;34m)\u001B[0m\u001B[0;34m\u001B[0m\u001B[0;34m\u001B[0m\u001B[0m\n\u001B[0m\u001B[1;32m     31\u001B[0m \u001B[0mprint\u001B[0m\u001B[0;34m(\u001B[0m\u001B[0mfirmnav_id_toIndex\u001B[0m\u001B[0;34m(\u001B[0m\u001B[0;34m'SE5560330788'\u001B[0m\u001B[0;34m)\u001B[0m\u001B[0;34m)\u001B[0m\u001B[0;34m\u001B[0m\u001B[0;34m\u001B[0m\u001B[0m\n\u001B[1;32m     32\u001B[0m \u001B[0mprint\u001B[0m\u001B[0;34m(\u001B[0m\u001B[0mint\u001B[0m\u001B[0;34m(\u001B[0m\u001B[0mstr\u001B[0m\u001B[0;34m(\u001B[0m\u001B[0mfirmnav_index_toNACE\u001B[0m\u001B[0;34m(\u001B[0m\u001B[0;36m0\u001B[0m\u001B[0;34m)\u001B[0m\u001B[0;34m)\u001B[0m\u001B[0;34m[\u001B[0m\u001B[0;36m0\u001B[0m\u001B[0;34m]\u001B[0m\u001B[0;34m)\u001B[0m\u001B[0;34m-\u001B[0m\u001B[0;36m1\u001B[0m\u001B[0;34m)\u001B[0m\u001B[0;34m\u001B[0m\u001B[0;34m\u001B[0m\u001B[0m\n",
      "\u001B[0;32m<ipython-input-33-bc0b8c772326>\u001B[0m in \u001B[0;36mfirmnav_id_toNACE\u001B[0;34m(firmnav_id)\u001B[0m\n\u001B[1;32m      3\u001B[0m \u001B[0;34m\u001B[0m\u001B[0m\n\u001B[1;32m      4\u001B[0m \u001B[0;32mdef\u001B[0m \u001B[0mfirmnav_id_toNACE\u001B[0m\u001B[0;34m(\u001B[0m\u001B[0mfirmnav_id\u001B[0m\u001B[0;34m)\u001B[0m\u001B[0;34m:\u001B[0m\u001B[0;34m\u001B[0m\u001B[0;34m\u001B[0m\u001B[0m\n\u001B[0;32m----> 5\u001B[0;31m     \u001B[0;32mreturn\u001B[0m \u001B[0mint\u001B[0m\u001B[0;34m(\u001B[0m\u001B[0mfull_data\u001B[0m\u001B[0;34m[\u001B[0m\u001B[0;34m'NACE'\u001B[0m\u001B[0;34m]\u001B[0m\u001B[0;34m[\u001B[0m\u001B[0mfull_data\u001B[0m\u001B[0;34m[\u001B[0m\u001B[0;34m\"id\"\u001B[0m\u001B[0;34m]\u001B[0m \u001B[0;34m==\u001B[0m \u001B[0mfirmnav_id\u001B[0m\u001B[0;34m]\u001B[0m\u001B[0;34m)\u001B[0m\u001B[0;34m\u001B[0m\u001B[0;34m\u001B[0m\u001B[0m\n\u001B[0m\u001B[1;32m      6\u001B[0m \u001B[0;34m\u001B[0m\u001B[0m\n\u001B[1;32m      7\u001B[0m \u001B[0;32mdef\u001B[0m \u001B[0mfirmnav_index_toNACE\u001B[0m\u001B[0;34m(\u001B[0m\u001B[0mfirmnav_index\u001B[0m\u001B[0;34m)\u001B[0m\u001B[0;34m:\u001B[0m\u001B[0;34m\u001B[0m\u001B[0;34m\u001B[0m\u001B[0m\n",
      "\u001B[0;32m~/opt/anaconda3/lib/python3.8/site-packages/pandas/core/series.py\u001B[0m in \u001B[0;36mwrapper\u001B[0;34m(self)\u001B[0m\n\u001B[1;32m    138\u001B[0m     \u001B[0;32mdef\u001B[0m \u001B[0mwrapper\u001B[0m\u001B[0;34m(\u001B[0m\u001B[0mself\u001B[0m\u001B[0;34m)\u001B[0m\u001B[0;34m:\u001B[0m\u001B[0;34m\u001B[0m\u001B[0;34m\u001B[0m\u001B[0m\n\u001B[1;32m    139\u001B[0m         \u001B[0;32mif\u001B[0m \u001B[0mlen\u001B[0m\u001B[0;34m(\u001B[0m\u001B[0mself\u001B[0m\u001B[0;34m)\u001B[0m \u001B[0;34m==\u001B[0m \u001B[0;36m1\u001B[0m\u001B[0;34m:\u001B[0m\u001B[0;34m\u001B[0m\u001B[0;34m\u001B[0m\u001B[0m\n\u001B[0;32m--> 140\u001B[0;31m             \u001B[0;32mreturn\u001B[0m \u001B[0mconverter\u001B[0m\u001B[0;34m(\u001B[0m\u001B[0mself\u001B[0m\u001B[0;34m.\u001B[0m\u001B[0miloc\u001B[0m\u001B[0;34m[\u001B[0m\u001B[0;36m0\u001B[0m\u001B[0;34m]\u001B[0m\u001B[0;34m)\u001B[0m\u001B[0;34m\u001B[0m\u001B[0;34m\u001B[0m\u001B[0m\n\u001B[0m\u001B[1;32m    141\u001B[0m         \u001B[0;32mraise\u001B[0m \u001B[0mTypeError\u001B[0m\u001B[0;34m(\u001B[0m\u001B[0;34mf\"cannot convert the series to {converter}\"\u001B[0m\u001B[0;34m)\u001B[0m\u001B[0;34m\u001B[0m\u001B[0;34m\u001B[0m\u001B[0m\n\u001B[1;32m    142\u001B[0m \u001B[0;34m\u001B[0m\u001B[0m\n",
      "\u001B[0;31mValueError\u001B[0m: cannot convert float NaN to integer"
     ]
    }
   ],
   "source": [
    "NACE_pca_colors = ['green', 'black', 'blue', 'red', 'orange', 'yellow', 'purple', 'brown', 'gray', 'pink']\n",
    "#mpatches.Patch(color='blue', label='initial')\n",
    "\n",
    "def firmnav_id_toNACE(firmnav_id):\n",
    "    return int(full_data['NACE'][full_data[\"id\"] == firmnav_id])\n",
    "\n",
    "def firmnav_index_toNACE(firmnav_index):\n",
    "    return int(full_data['NACE'].iloc[firmnav_index])\n",
    "\n",
    "def plot_PCA_NACE(n_samples, component_a=0, component_b=1, title='SBERT PCA colored by NACE'):\n",
    "    figure(figsize=(5, 4), dpi=120)\n",
    "\n",
    "    for x, y in zip(transposed[component_a, :n_samples], transposed[component_b, :n_samples]):\n",
    "        c = 'blue'\n",
    "        plt.plot(x,y,\".\", color=c, alpha=0.1)\n",
    "\n",
    "    populations = [mpatches.Patch(color=NACE_pca_colors[i], label=f'{i+1}') for i in range(len(NACE_pca_colors))]\n",
    "\n",
    "\n",
    "    plt.legend(handles=populations)\n",
    "    plt.title(title)\n",
    "    plt.xlabel(f'PC{component_a+1}')\n",
    "    plt.ylabel(f'PC{component_b+1}')\n",
    "    plt.xticks([], [])\n",
    "    plt.yticks([], [])\n",
    "    plt.savefig(f'SBERT PCA figures/NACE PCA.jpg')\n",
    "\n",
    "    plt.close()\n",
    "\n",
    "#print(firmnav_id_toNACE('SE5592101991'))\n",
    "#print(firmnav_id_toIndex('SE5560330788'))\n",
    "#print(int(str(firmnav_index_toNACE(0))[0])-1)"
   ],
   "metadata": {
    "collapsed": false,
    "pycharm": {
     "name": "#%%\n"
    }
   }
  },
  {
   "cell_type": "code",
   "execution_count": null,
   "outputs": [],
   "source": [],
   "metadata": {
    "collapsed": false,
    "pycharm": {
     "name": "#%%\n"
    }
   }
  }
 ],
 "metadata": {
  "kernelspec": {
   "display_name": "Python 3",
   "language": "python",
   "name": "python3"
  },
  "language_info": {
   "codemirror_mode": {
    "name": "ipython",
    "version": 2
   },
   "file_extension": ".py",
   "mimetype": "text/x-python",
   "name": "python",
   "nbconvert_exporter": "python",
   "pygments_lexer": "ipython2",
   "version": "2.7.6"
  }
 },
 "nbformat": 4,
 "nbformat_minor": 0
}