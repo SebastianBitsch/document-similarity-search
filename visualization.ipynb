{
 "cells": [
  {
   "cell_type": "markdown",
   "metadata": {},
   "source": [
    "# Visualize the dataset"
   ]
  },
  {
   "cell_type": "code",
   "execution_count": 21,
   "metadata": {},
   "outputs": [],
   "source": [
    "# Import packages\n",
    "from tqdm import tqdm\n",
    "import csv\n",
    "import pandas as pd\n",
    "import numpy as np\n",
    "import matplotlib.pyplot as plt\n",
    "import plotly.express as px\n",
    "#!{sys.executable} -m pip install plotly"
   ]
  },
  {
   "cell_type": "code",
   "execution_count": 2,
   "metadata": {},
   "outputs": [
    {
     "name": "stdout",
     "output_type": "stream",
     "text": [
      "(82076, 6)\n"
     ]
    },
    {
     "data": {
      "text/html": [
       "<div>\n",
       "<style scoped>\n",
       "    .dataframe tbody tr th:only-of-type {\n",
       "        vertical-align: middle;\n",
       "    }\n",
       "\n",
       "    .dataframe tbody tr th {\n",
       "        vertical-align: top;\n",
       "    }\n",
       "\n",
       "    .dataframe thead th {\n",
       "        text-align: right;\n",
       "    }\n",
       "</style>\n",
       "<table border=\"1\" class=\"dataframe\">\n",
       "  <thead>\n",
       "    <tr style=\"text-align: right;\">\n",
       "      <th></th>\n",
       "      <th>id</th>\n",
       "      <th>country</th>\n",
       "      <th>name</th>\n",
       "      <th>NACE</th>\n",
       "      <th>description</th>\n",
       "      <th>text</th>\n",
       "    </tr>\n",
       "  </thead>\n",
       "  <tbody>\n",
       "    <tr>\n",
       "      <th>0</th>\n",
       "      <td>SE5560330788</td>\n",
       "      <td>SE</td>\n",
       "      <td>Geberit Production AB</td>\n",
       "      <td>2342.0</td>\n",
       "      <td>The globally operating Geberit Group is a Euro...</td>\n",
       "      <td>The globally operating Geberit Group is a Euro...</td>\n",
       "    </tr>\n",
       "    <tr>\n",
       "      <th>1</th>\n",
       "      <td>SE5569037251</td>\n",
       "      <td>SE</td>\n",
       "      <td>UMAB AB</td>\n",
       "      <td>7112.0</td>\n",
       "      <td>company should provide services within mechani...</td>\n",
       "      <td>company should provide services within mechani...</td>\n",
       "    </tr>\n",
       "    <tr>\n",
       "      <th>2</th>\n",
       "      <td>SE5592295116</td>\n",
       "      <td>SE</td>\n",
       "      <td>Proarch AB</td>\n",
       "      <td>7111.0</td>\n",
       "      <td>sell consulting services within real estate ar...</td>\n",
       "      <td>sell consulting services within real estate ar...</td>\n",
       "    </tr>\n",
       "    <tr>\n",
       "      <th>3</th>\n",
       "      <td>SE5590218375</td>\n",
       "      <td>SE</td>\n",
       "      <td>Double Duck AB</td>\n",
       "      <td>9003.0</td>\n",
       "      <td>aktiebolaget should conduct authoring activiti...</td>\n",
       "      <td>aktiebolaget should conduct authoring activiti...</td>\n",
       "    </tr>\n",
       "    <tr>\n",
       "      <th>4</th>\n",
       "      <td>DK32305148</td>\n",
       "      <td>DK</td>\n",
       "      <td>RØRVIG FISK'S FISKERESTAURANT ApS</td>\n",
       "      <td>5610.0</td>\n",
       "      <td>company purpose is to drive restaurant and sec...</td>\n",
       "      <td>company purpose is to drive restaurant and sec...</td>\n",
       "    </tr>\n",
       "  </tbody>\n",
       "</table>\n",
       "</div>"
      ],
      "text/plain": [
       "             id country                               name    NACE  \\\n",
       "0  SE5560330788      SE              Geberit Production AB  2342.0   \n",
       "1  SE5569037251      SE                            UMAB AB  7112.0   \n",
       "2  SE5592295116      SE                         Proarch AB  7111.0   \n",
       "3  SE5590218375      SE                     Double Duck AB  9003.0   \n",
       "4    DK32305148      DK  RØRVIG FISK'S FISKERESTAURANT ApS  5610.0   \n",
       "\n",
       "                                         description  \\\n",
       "0  The globally operating Geberit Group is a Euro...   \n",
       "1  company should provide services within mechani...   \n",
       "2  sell consulting services within real estate ar...   \n",
       "3  aktiebolaget should conduct authoring activiti...   \n",
       "4  company purpose is to drive restaurant and sec...   \n",
       "\n",
       "                                                text  \n",
       "0  The globally operating Geberit Group is a Euro...  \n",
       "1  company should provide services within mechani...  \n",
       "2  sell consulting services within real estate ar...  \n",
       "3  aktiebolaget should conduct authoring activiti...  \n",
       "4  company purpose is to drive restaurant and sec...  "
      ]
     },
     "execution_count": 2,
     "metadata": {},
     "output_type": "execute_result"
    }
   ],
   "source": [
    "df = pd.read_csv('combined.csv',delimiter=\",\")\n",
    "print(df.shape)\n",
    "df.head()"
   ]
  },
  {
   "cell_type": "markdown",
   "metadata": {},
   "source": [
    "## Statistics"
   ]
  },
  {
   "cell_type": "code",
   "execution_count": 17,
   "metadata": {},
   "outputs": [
    {
     "data": {
      "text/plain": [
       "id                0\n",
       "country           0\n",
       "name              0\n",
       "NACE           5997\n",
       "description    1822\n",
       "text              4\n",
       "dtype: int64"
      ]
     },
     "execution_count": 17,
     "metadata": {},
     "output_type": "execute_result"
    }
   ],
   "source": [
    "# Na-values\n",
    "df.isna().sum()"
   ]
  },
  {
   "cell_type": "code",
   "execution_count": 18,
   "metadata": {},
   "outputs": [
    {
     "data": {
      "text/plain": [
       "array(['SE', 'DK', 'FI', 'NO', 'US', 'JP', 'CN', 'AU', 'GB', 'BM', 'CA',\n",
       "       'AT', 'LU', 'IN', 'FR', 'IT', 'SG', 'JE', 'ID', 'TR', 'PL', 'TH',\n",
       "       'BR', 'DE', 'IL', 'HK', 'CH', 'NZ', 'MX', 'BE', 'RU', 'IM', 'PT',\n",
       "       'KR', 'MY', 'NL', 'ES', 'KY', 'EE', 'PA', 'IE', 'ZA', 'PH', 'VG',\n",
       "       'GR', 'HU', 'LT', 'GG'], dtype=object)"
      ]
     },
     "execution_count": 18,
     "metadata": {},
     "output_type": "execute_result"
    }
   ],
   "source": [
    "# Different countries\n",
    "df['country'].unique()"
   ]
  },
  {
   "cell_type": "code",
   "execution_count": 16,
   "metadata": {},
   "outputs": [
    {
     "data": {
      "text/plain": [
       "1130"
      ]
     },
     "execution_count": 16,
     "metadata": {},
     "output_type": "execute_result"
    }
   ],
   "source": [
    "# Duplicate IDs\n",
    "len(df) - len(df.drop_duplicates(subset=['id'],keep='first'))"
   ]
  },
  {
   "cell_type": "code",
   "execution_count": 15,
   "metadata": {},
   "outputs": [
    {
     "data": {
      "text/plain": [
       "-80946"
      ]
     },
     "execution_count": 15,
     "metadata": {},
     "output_type": "execute_result"
    }
   ],
   "source": []
  },
  {
   "cell_type": "markdown",
   "metadata": {},
   "source": [
    "## Word and Char count"
   ]
  },
  {
   "cell_type": "code",
   "execution_count": 9,
   "metadata": {},
   "outputs": [],
   "source": [
    "def wordCount(text):\n",
    "    num = len(str(text).split())\n",
    "    return 100 if num > 100 else num\n",
    "\n",
    "def charCount(text):\n",
    "    num = len(str(text))\n",
    "    return 1000 if num > 1000 else num\n",
    "\n",
    "def countWordsAndCharacters(dataf):\n",
    "    wc = []\n",
    "    cc = []\n",
    "    for _, row in dataf.iterrows():\n",
    "        wc.append(wordCount(row['text']))\n",
    "        cc.append(charCount(row['text']))\n",
    "    return (wc,cc)\n"
   ]
  },
  {
   "cell_type": "code",
   "execution_count": 5,
   "metadata": {},
   "outputs": [
    {
     "name": "stdout",
     "output_type": "stream",
     "text": [
      "Num words has mean: 39.48 and median: 22 with std 35.36\n",
      "Num chars has mean: 346.54 and median: 150 with std 369.16\n"
     ]
    }
   ],
   "source": [
    "# Get median and mean of the number of words and characters\n",
    "wc,cc = countWordsAndCharacters(df)\n",
    "\n",
    "print(\"Num words has mean: {:.2f} and median: {:.0f} with std {:.2f}\".format(np.mean(wc),np.median(wc),np.std(wc)))\n",
    "print(\"Num chars has mean: {:.2f} and median: {:.0f} with std {:.2f}\".format(np.mean(cc),np.median(cc),np.std(cc)))"
   ]
  },
  {
   "cell_type": "code",
   "execution_count": 11,
   "metadata": {},
   "outputs": [
    {
     "data": {
      "image/png": "[encoded data removed]",
      "text/plain": [
       "<Figure size 504x288 with 2 Axes>"
      ]
     },
     "metadata": {
      "needs_background": "light"
     },
     "output_type": "display_data"
    }
   ],
   "source": [
    "wc,cc = countWordsAndCharacters(df)\n",
    "\n",
    "fig, axs = plt.subplots(1,2,figsize=(7,4))\n",
    "axs[0].hist(wc, bins=50)\n",
    "axs[1].hist(cc, bins=100)\n",
    "plt.show()"
   ]
  },
  {
   "cell_type": "markdown",
   "metadata": {},
   "source": [
    "## NACE codes"
   ]
  },
  {
   "cell_type": "code",
   "execution_count": 27,
   "metadata": {},
   "outputs": [
    {
     "name": "stdout",
     "output_type": "stream",
     "text": [
      "6    25076\n",
      "4    19420\n",
      "7    13240\n",
      "n     5997\n",
      "8     4933\n",
      "5     4614\n",
      "2     2812\n",
      "9     2498\n",
      "1     1906\n",
      "3     1580\n",
      "Name: NACE, dtype: int64\n"
     ]
    },
    {
     "data": {
      "image/png": "[encoded data removed]",
      "text/plain": [
       "<Figure size 432x288 with 1 Axes>"
      ]
     },
     "metadata": {
      "needs_background": "light"
     },
     "output_type": "display_data"
    }
   ],
   "source": [
    "# Get how many companies have the same first number of NACE code, n=NaN\n",
    "pivot = df['NACE'].astype(str).str[0].value_counts()\n",
    "print(pivot)\n",
    "\n",
    "a = sorted(zip(pivot.index,pivot.values))\n",
    "plt.bar(list(zip(*a))[0],list(zip(*a))[1])\n",
    "plt.show()"
   ]
  },
  {
   "cell_type": "code",
   "execution_count": 52,
   "metadata": {},
   "outputs": [
    {
     "name": "stdout",
     "output_type": "stream",
     "text": [
      "{3: 5997, 5: 1355, 6: 74724}\n"
     ]
    }
   ],
   "source": [
    "# Get how many companies have the same number of digits in their NACE code\n",
    "pivot = list(df['NACE'].astype(str).str.len())\n",
    "\n",
    "keys = set(pivot)\n",
    "unique = dict(zip(keys, [0]*len(keys)))\n",
    "\n",
    "for i in pivot:\n",
    "    unique[i] += 1\n",
    "\n",
    "# Nan values have length 3, others are on the format: '7022.0', '210.0'\n",
    "print(unique)"
   ]
  },
  {
   "cell_type": "code",
   "execution_count": null,
   "metadata": {},
   "outputs": [],
   "source": []
  },
  {
   "cell_type": "code",
   "execution_count": null,
   "metadata": {},
   "outputs": [],
   "source": []
  },
  {
   "cell_type": "code",
   "execution_count": null,
   "metadata": {},
   "outputs": [],
   "source": []
  },
  {
   "cell_type": "code",
   "execution_count": null,
   "metadata": {},
   "outputs": [],
   "source": []
  }
 ],
 "metadata": {
  "interpreter": {
   "hash": "c6e4e9f98eb68ad3b7c296f83d20e6de614cb42e90992a65aa266555a3137d0d"
  },
  "kernelspec": {
   "display_name": "Python 3.9.6",
   "language": "python",
   "name": "python3"
  },
  "language_info": {
   "codemirror_mode": {
    "name": "ipython",
    "version": 3
   },
   "file_extension": ".py",
   "mimetype": "text/x-python",
   "name": "python",
   "nbconvert_exporter": "python",
   "pygments_lexer": "ipython3",
   "version": "3.9.6"
  },
  "orig_nbformat": 4
 },
 "nbformat": 4,
 "nbformat_minor": 2
}
