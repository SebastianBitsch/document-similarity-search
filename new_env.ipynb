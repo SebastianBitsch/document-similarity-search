{
 "cells": [
  {
   "cell_type": "markdown",
   "source": [
    "# Results"
   ],
   "metadata": {
    "collapsed": false,
    "pycharm": {
     "name": "#%% md\n"
    }
   }
  },
  {
   "cell_type": "markdown",
   "source": [
    "| **avg accuracy**    | logistic | xgboost |\n",
    "|---------------------|----------|---------|\n",
    "| per file            | 0.66     | 0.57    |\n",
    "| train all, test one | 0.58     | 0.54    |\n",
    "| train one, test all | 0.53     | 0.58    |"
   ],
   "metadata": {
    "collapsed": false,
    "pycharm": {
     "name": "#%% md\n"
    }
   }
  },
  {
   "cell_type": "code",
   "execution_count": null,
   "outputs": [],
   "source": [
    "#\n",
    "import numpy as np\n",
    "import matplotlib.pyplot as plt\n",
    "from tqdm import tqdm\n",
    "from sklearn.feature_extraction.text import TfidfVectorizer\n",
    "from sklearn.metrics import mean_squared_error\n",
    "# \n",
    "from sklearn.linear_model import LogisticRegression\n",
    "from sklearn.model_selection import GridSearchCV\n",
    "import multiprocessing\n",
    "\n",
    "import xgboost as xgb\n",
    "xgb.set_config(verbosity=1)\n",
    "\n",
    "#\n",
    "import util.Util as util, plot_accuracies\n",
    "from df_features import DataFrameFeatures\n",
    "from df_classifier import DataFrameClassifier"
   ],
   "metadata": {
    "collapsed": false,
    "pycharm": {
     "name": "#%%\n"
    }
   }
  },
  {
   "cell_type": "code",
   "execution_count": null,
   "outputs": [],
   "source": [
    "file_names = ['Computer vision','Consulting','Fintech','Fish processing equipment','Healthcare','House builders','Industrial vertical investor','Innovative','IoT','IT freelance','M&A advisors','Manufacturers','Online games','Payments tech','PE fund','Procurement software','Resource-efficiency','SaaS','Sustainability','Wind turbine tech']"
   ],
   "metadata": {
    "collapsed": false,
    "pycharm": {
     "name": "#%%\n"
    }
   }
  },
  {
   "cell_type": "code",
   "execution_count": null,
   "outputs": [],
   "source": [
    "# Read GLOVE embeddings from file\n",
    "glove_df = util.read_csv('util/glove/glove.42B.300d.txt', sep=\" \", index_col=0, quoting=3, header=None)\n",
    "glove_embeddings = {key: val.values for key, val in tqdm(glove_df.T.items())}\n",
    "del glove_df # Delete glove_df to free up memory"
   ],
   "metadata": {
    "collapsed": false,
    "pycharm": {
     "name": "#%%\n"
    }
   }
  },
  {
   "cell_type": "code",
   "execution_count": null,
   "outputs": [],
   "source": [
    "# Read the cleaned dataframe\n",
    "full_df = util.read_csv('data/processed_data/cleaned_v1.csv')\n",
    "\n",
    "# Create tf-idf vectorizer using the main col and a max of 250 features\n",
    "main_col = 'description'\n",
    "vectorizer = TfidfVectorizer(max_features=250)\n",
    "vectorizer.fit_transform(full_df[main_col])\n",
    "\n",
    "full_dff = DataFrameFeatures(df=full_df, vectorizer=vectorizer, main_col=main_col)"
   ],
   "metadata": {
    "collapsed": false,
    "pycharm": {
     "name": "#%%\n"
    }
   }
  },
  {
   "cell_type": "markdown",
   "source": [
    "# Classification"
   ],
   "metadata": {
    "collapsed": false,
    "pycharm": {
     "name": "#%% md\n"
    }
   }
  },
  {
   "cell_type": "markdown",
   "source": [
    "## Per file: Train on labelled, test on initials "
   ],
   "metadata": {
    "collapsed": false,
    "pycharm": {
     "name": "#%% md\n"
    }
   }
  },
  {
   "cell_type": "markdown",
   "source": [
    "#### Logistic regression"
   ],
   "metadata": {
    "collapsed": false,
    "pycharm": {
     "name": "#%% md\n"
    }
   }
  },
  {
   "cell_type": "code",
   "execution_count": null,
   "outputs": [],
   "source": [
    "accuracies = {}\n",
    "\n",
    "for file_name in tqdm(file_names):\n",
    "    dfc = DataFrameClassifier(dff=full_dff, glove_embeddings=glove_embeddings, file_name=file_name, verbose=False)\n",
    "    \n",
    "    X_train, y_train, X_test, y_test = dfc.get_feature_vectors(split=True)\n",
    "\n",
    "    clf = LogisticRegression(random_state=0, class_weight='balanced', fit_intercept=False).fit(X_train, y_train)\n",
    "    \n",
    "    accuracies[file_name] = clf.score(X_test, y_test)"
   ],
   "metadata": {
    "collapsed": false,
    "pycharm": {
     "name": "#%%\n"
    }
   }
  },
  {
   "cell_type": "code",
   "execution_count": null,
   "outputs": [],
   "source": [
    "print(f\"Average accuracy: {np.mean(list(accuracies.values()))}\")\n",
    "print(\"---\")\n",
    "print(accuracies)"
   ],
   "metadata": {
    "collapsed": false,
    "pycharm": {
     "name": "#%%\n"
    }
   }
  },
  {
   "cell_type": "code",
   "execution_count": null,
   "outputs": [],
   "source": [
    "_, _ = plot_accuracies(accuracies, \"Logistic regression\")\n",
    "plt.show()"
   ],
   "metadata": {
    "collapsed": false,
    "pycharm": {
     "name": "#%%\n"
    }
   }
  },
  {
   "cell_type": "markdown",
   "source": [
    "#### XGBoost"
   ],
   "metadata": {
    "collapsed": false,
    "pycharm": {
     "name": "#%% md\n"
    }
   }
  },
  {
   "cell_type": "code",
   "execution_count": null,
   "outputs": [],
   "source": [
    "accuracies = {}\n",
    "\n",
    "xg_reg = xgb.XGBRegressor(objective ='reg:squarederror', n_jobs=multiprocessing.cpu_count() // 2)\n",
    "\n",
    "for file_name in tqdm(file_names):\n",
    "    dfc = DataFrameClassifier(dff=full_dff, glove_embeddings=glove_embeddings, file_name=file_name, verbose=False)\n",
    "    \n",
    "    X_train, y_train, X_test, y_test = dfc.get_feature_vectors(split=True)\n",
    "    \n",
    "    xg_reg.fit(X_train, y_train)\n",
    "    preds = xg_reg.predict(X_test)\n",
    "    score = np.sqrt(mean_squared_error(y_test, preds))\n",
    "\n",
    "    accuracies[file_name] = score"
   ],
   "metadata": {
    "collapsed": false,
    "pycharm": {
     "name": "#%%\n"
    }
   }
  },
  {
   "cell_type": "code",
   "execution_count": null,
   "outputs": [],
   "source": [
    "print(f\"Average accuracy: {np.mean(list(accuracies.values()))}\")\n",
    "print(\"---\")\n",
    "print(accuracies)"
   ],
   "metadata": {
    "collapsed": false,
    "pycharm": {
     "name": "#%%\n"
    }
   }
  },
  {
   "cell_type": "code",
   "execution_count": null,
   "outputs": [],
   "source": [
    "_, _ = plot_accuracies(accuracies, \"XGBoost\")\n",
    "plt.show()"
   ],
   "metadata": {
    "collapsed": false,
    "pycharm": {
     "name": "#%%\n"
    }
   }
  },
  {
   "cell_type": "markdown",
   "source": [
    "## Train one file, test on all others individually"
   ],
   "metadata": {
    "collapsed": false,
    "pycharm": {
     "name": "#%% md\n"
    }
   }
  },
  {
   "cell_type": "markdown",
   "source": [
    "#### Logistic"
   ],
   "metadata": {
    "collapsed": false,
    "pycharm": {
     "name": "#%% md\n"
    }
   }
  },
  {
   "cell_type": "code",
   "execution_count": null,
   "outputs": [],
   "source": [
    "\n",
    "dfcs = {}\n",
    "accuracies = [[] for _ in range(len(file_names))]\n",
    "\n",
    "# Create all the dfcs once\n",
    "for file_name in tqdm(file_names):\n",
    "    dfcs[file_name] = DataFrameClassifier(dff=full_dff, glove_embeddings=glove_embeddings, file_name=file_name, verbose=False)\n",
    "\n",
    "# Calculate the accuracies\n",
    "for i, train_file in tqdm(enumerate(file_names)):\n",
    "\n",
    "    X_train, y_train = dfcs[train_file].get_feature_vectors(split=False)\n",
    "    clf = LogisticRegression(random_state=0, class_weight='balanced', fit_intercept=False, n_jobs=multiprocessing.cpu_count() // 2).fit(X_train, y_train)\n",
    "\n",
    "    for test_file in file_names:\n",
    "        X_test, y_test = dfcs[test_file].get_feature_vectors(split=False)\n",
    "        accuracies[i].append(clf.score(X_test, y_test))"
   ],
   "metadata": {
    "collapsed": false,
    "pycharm": {
     "name": "#%%\n"
    }
   }
  },
  {
   "cell_type": "code",
   "execution_count": null,
   "outputs": [],
   "source": [
    "avg_accuracies = [np.mean(x) for x in accuracies]\n",
    "acc = dict(zip(file_names, avg_accuracies))"
   ],
   "metadata": {
    "collapsed": false,
    "pycharm": {
     "name": "#%%\n"
    }
   }
  },
  {
   "cell_type": "code",
   "execution_count": null,
   "outputs": [],
   "source": [
    "print(f\"Average accuracy: {np.mean(list(acc.values()))}\")\n",
    "print(\"---\")\n",
    "print(acc)"
   ],
   "metadata": {
    "collapsed": false,
    "pycharm": {
     "name": "#%%\n"
    }
   }
  },
  {
   "cell_type": "code",
   "execution_count": null,
   "outputs": [],
   "source": [
    "_,_ = plot_accuracies(acc, \"Logistic\")\n",
    "plt.show()"
   ],
   "metadata": {
    "collapsed": false,
    "pycharm": {
     "name": "#%%\n"
    }
   }
  },
  {
   "cell_type": "code",
   "execution_count": null,
   "outputs": [],
   "source": [
    "plt.imshow(accuracies)"
   ],
   "metadata": {
    "collapsed": false,
    "pycharm": {
     "name": "#%%\n"
    }
   }
  },
  {
   "cell_type": "markdown",
   "source": [
    "#### XGBoost"
   ],
   "metadata": {
    "collapsed": false,
    "pycharm": {
     "name": "#%% md\n"
    }
   }
  },
  {
   "cell_type": "code",
   "execution_count": null,
   "outputs": [],
   "source": [
    "dfcs = {}\n",
    "accuracies = [[] for _ in range(len(file_names))]\n",
    "xg_reg = xgb.XGBRegressor(objective ='reg:squarederror', n_jobs=multiprocessing.cpu_count() // 2)#, colsample_bytree = 0.3, learning_rate = 0.1, max_depth = 5, alpha = 10, n_estimators = 10)\n",
    "\n",
    "# Create all the dfcs once\n",
    "for file_name in tqdm(file_names):\n",
    "    dfcs[file_name] = DataFrameClassifier(dff=full_dff, glove_embeddings=glove_embeddings, file_name=file_name, verbose=False)\n",
    "\n",
    "# Calculate the accuracies\n",
    "for i, train_file in tqdm(enumerate(file_names)):\n",
    "\n",
    "    X_train, y_train = dfcs[train_file].get_feature_vectors(split=False)\n",
    "\n",
    "    for test_file in file_names:\n",
    "        X_test, y_test = dfcs[test_file].get_feature_vectors(split=False)\n",
    "        \n",
    "        xg_reg.fit(X_train, y_train)\n",
    "        preds = xg_reg.predict(X_test)\n",
    "        score = np.sqrt(mean_squared_error(y_test, preds))\n",
    "        \n",
    "        accuracies[i].append(score)"
   ],
   "metadata": {
    "collapsed": false,
    "pycharm": {
     "name": "#%%\n"
    }
   }
  },
  {
   "cell_type": "code",
   "execution_count": null,
   "outputs": [],
   "source": [
    "avg_accuracies = [np.mean(x) for x in accuracies]\n",
    "acc = dict(zip(file_names, avg_accuracies))"
   ],
   "metadata": {
    "collapsed": false,
    "pycharm": {
     "name": "#%%\n"
    }
   }
  },
  {
   "cell_type": "code",
   "execution_count": null,
   "outputs": [],
   "source": [
    "print(f\"Average accuracy: {np.mean(list(acc.values()))}\")\n",
    "print(\"---\")\n",
    "print(acc)"
   ],
   "metadata": {
    "collapsed": false,
    "pycharm": {
     "name": "#%%\n"
    }
   }
  },
  {
   "cell_type": "code",
   "execution_count": null,
   "outputs": [],
   "source": [
    "_,_ = plot_accuracies(acc, \"XGBoost\")\n",
    "plt.show()"
   ],
   "metadata": {
    "collapsed": false,
    "pycharm": {
     "name": "#%%\n"
    }
   }
  },
  {
   "cell_type": "code",
   "execution_count": null,
   "outputs": [],
   "source": [
    "plt.imshow(accuracies)"
   ],
   "metadata": {
    "collapsed": false,
    "pycharm": {
     "name": "#%%\n"
    }
   }
  },
  {
   "cell_type": "markdown",
   "source": [
    "## Train all files except one, test on the last"
   ],
   "metadata": {
    "collapsed": false,
    "pycharm": {
     "name": "#%% md\n"
    }
   }
  },
  {
   "cell_type": "markdown",
   "source": [
    "#### Logistic"
   ],
   "metadata": {
    "collapsed": false,
    "pycharm": {
     "name": "#%% md\n"
    }
   }
  },
  {
   "cell_type": "code",
   "execution_count": null,
   "outputs": [],
   "source": [
    "dfcs = {}\n",
    "accuracies = {}\n",
    "\n",
    "# Create all the dfcs once\n",
    "for file_name in tqdm(file_names):\n",
    "    dfcs[file_name] = DataFrameClassifier(dff=full_dff, glove_embeddings=glove_embeddings, file_name=file_name, verbose=False)\n",
    "\n",
    "# Calculate the accuracies\n",
    "for test_file in tqdm(file_names):\n",
    "\n",
    "    X_train, y_train = [], []\n",
    "    X_test, y_test = dfcs[test_file].get_feature_vectors(split=False)\n",
    "    \n",
    "    for train_file in file_names:\n",
    "        if train_file == test_file:\n",
    "            continue\n",
    "        new_X_train, new_y_train = dfcs[train_file].get_feature_vectors(split=False)\n",
    "        X_train.extend(new_X_train)\n",
    "        y_train.extend(new_y_train)\n",
    "        \n",
    "    clf = LogisticRegression(random_state=0, class_weight='balanced', n_jobs=multiprocessing.cpu_count() // 2).fit(X_train, y_train)\n",
    "    accuracies[test_file] = clf.score(X_test, y_test)"
   ],
   "metadata": {
    "collapsed": false,
    "pycharm": {
     "name": "#%%\n"
    }
   }
  },
  {
   "cell_type": "code",
   "execution_count": null,
   "outputs": [],
   "source": [
    "print(f\"Average accuracy: {np.mean(list(accuracies.values()))}\")\n",
    "print(\"---\")\n",
    "print(accuracies)"
   ],
   "metadata": {
    "collapsed": false,
    "pycharm": {
     "name": "#%%\n"
    }
   }
  },
  {
   "cell_type": "code",
   "execution_count": null,
   "outputs": [],
   "source": [
    "_,_ = plot_accuracies(accuracies, \"Logistic\")\n",
    "plt.show()"
   ],
   "metadata": {
    "collapsed": false,
    "pycharm": {
     "name": "#%%\n"
    }
   }
  },
  {
   "cell_type": "markdown",
   "source": [
    "#### XGBoost"
   ],
   "metadata": {
    "collapsed": false,
    "pycharm": {
     "name": "#%% md\n"
    }
   }
  },
  {
   "cell_type": "code",
   "execution_count": null,
   "outputs": [],
   "source": [
    "dfcs = {}\n",
    "accuracies = {}\n",
    "\n",
    "xg_reg = xgb.XGBRegressor(objective ='reg:squarederror', n_jobs=multiprocessing.cpu_count() // 2)\n",
    "\n",
    "# Create all the dfcs once\n",
    "for file_name in tqdm(file_names):\n",
    "    dfcs[file_name] = DataFrameClassifier(dff=full_dff, glove_embeddings=glove_embeddings, file_name=file_name, verbose=False)\n",
    "\n",
    "# Calculate the accuracies\n",
    "for test_file in tqdm(file_names):\n",
    "\n",
    "    X_train, y_train = [], []\n",
    "    X_test, y_test = dfcs[test_file].get_feature_vectors(split=False)\n",
    "    \n",
    "    for train_file in file_names:\n",
    "        if train_file == test_file:\n",
    "            continue\n",
    "        new_X_train, new_y_train = dfcs[train_file].get_feature_vectors(split=False)\n",
    "        X_train.extend(new_X_train)\n",
    "        y_train.extend(new_y_train)\n",
    "        \n",
    "    \n",
    "    xg_reg.fit(X_train, y_train)\n",
    "    preds = xg_reg.predict(X_test)\n",
    "    score = np.sqrt(mean_squared_error(y_test, preds))\n",
    "    \n",
    "    accuracies[test_file] = score"
   ],
   "metadata": {
    "collapsed": false,
    "pycharm": {
     "name": "#%%\n"
    }
   }
  },
  {
   "cell_type": "code",
   "execution_count": null,
   "outputs": [],
   "source": [
    "print(f\"Average accuracy: {np.mean(list(accuracies.values()))}\")\n",
    "print(\"---\")\n",
    "print(accuracies)"
   ],
   "metadata": {
    "collapsed": false,
    "pycharm": {
     "name": "#%%\n"
    }
   }
  },
  {
   "cell_type": "code",
   "execution_count": null,
   "outputs": [],
   "source": [
    "_,_ = plot_accuracies(accuracies, \"XGBoost\")\n",
    "plt.show()"
   ],
   "metadata": {
    "collapsed": false,
    "pycharm": {
     "name": "#%%\n"
    }
   }
  },
  {
   "cell_type": "markdown",
   "source": [
    "# Crossvalidation "
   ],
   "metadata": {
    "collapsed": false,
    "pycharm": {
     "name": "#%% md\n"
    }
   }
  },
  {
   "cell_type": "markdown",
   "source": [
    "## XGBoost"
   ],
   "metadata": {
    "collapsed": false,
    "pycharm": {
     "name": "#%% md\n"
    }
   }
  },
  {
   "cell_type": "markdown",
   "source": [
    "### Train"
   ],
   "metadata": {
    "collapsed": false,
    "pycharm": {
     "name": "#%% md\n"
    }
   }
  },
  {
   "cell_type": "code",
   "execution_count": null,
   "outputs": [],
   "source": [
    "\n",
    "dfc = DataFrameClassifier(dff=full_dff, glove_embeddings=glove_embeddings, file_name='Computer vision')\n",
    "X_train, y_train = dfc.get_feature_vectors(split=False)\n",
    "\n",
    "dfc = DataFrameClassifier(dff=full_dff, glove_embeddings=glove_embeddings, file_name='Consulting')\n",
    "X_test, y_test = dfc.get_feature_vectors(split=False)\n",
    "\n",
    "xgb_model = xgb.XGBRegressor(objective ='reg:squarederror', n_jobs=multiprocessing.cpu_count() // 2)\n",
    "clf = GridSearchCV(xgb_model, {\n",
    "    'booster' : ['gbtree', 'gblinear', 'dart'],\n",
    "    'n_estimators' : [1, 5, 10, 20, 50]\n",
    "    }, \n",
    "    verbose=1,\n",
    "    n_jobs=2\n",
    ")\n",
    "clf.fit(X_train, y_train)\n",
    "print(clf.best_score_)\n",
    "print(clf.best_params_)"
   ],
   "metadata": {
    "collapsed": false,
    "pycharm": {
     "name": "#%%\n"
    }
   }
  },
  {
   "cell_type": "markdown",
   "source": [
    "### Test"
   ],
   "metadata": {
    "collapsed": false,
    "pycharm": {
     "name": "#%% md\n"
    }
   }
  },
  {
   "cell_type": "code",
   "execution_count": null,
   "outputs": [],
   "source": [
    "xg_reg = xgb.XGBRegressor(objective ='reg:squarederror', n_jobs=multiprocessing.cpu_count() // 2)\n",
    "xg_reg.fit(X_train, y_train)\n",
    "preds = xg_reg.predict(X_test)\n",
    "score = np.sqrt(mean_squared_error(y_test, preds))\n",
    "score"
   ],
   "metadata": {
    "collapsed": false,
    "pycharm": {
     "name": "#%%\n"
    }
   }
  },
  {
   "cell_type": "code",
   "execution_count": 93,
   "metadata": {},
   "outputs": [
    {
     "name": "stderr",
     "output_type": "stream",
     "text": [
      "100%|██████████| 20/20 [00:00<00:00, 69.87it/s]\n",
      "100%|██████████| 20/20 [03:21<00:00, 10.05s/it]\n"
     ]
    }
   ],
   "source": [
    "dfcs = {}\n",
    "accuracies = {}\n",
    "\n",
    "# Create all the dfcs once\n",
    "for file_name in tqdm(file_names):\n",
    "    dfcs[file_name] = DataFrameClassifier(dff=full_dff, glove_embeddings=glove_embeddings, file_name=file_name, verbose=False)\n",
    "\n",
    "# Calculate the accuracies\n",
    "for test_file in tqdm(file_names):\n",
    "\n",
    "    X_train, y_train = [], []\n",
    "    X_test, y_test = dfcs[test_file].get_feature_vectors(split=False)\n",
    "    \n",
    "    for train_file in file_names:\n",
    "        if train_file == test_file:\n",
    "            continue\n",
    "        new_X_train, new_y_train = dfcs[train_file].get_feature_vectors(split=False)\n",
    "        X_train.extend(new_X_train)\n",
    "        y_train.extend(new_y_train)\n",
    "        \n",
    "    clf = LogisticRegression(random_state=0, class_weight='balanced', n_jobs=multiprocessing.cpu_count() // 2).fit(X_train, y_train)\n",
    "    accuracies[test_file] = clf.score(X_test, y_test)"
   ]
  },
  {
   "cell_type": "code",
   "execution_count": 94,
   "metadata": {},
   "outputs": [
    {
     "name": "stdout",
     "output_type": "stream",
     "text": [
      "Average accuracy: 0.5884233266360115\n",
      "---\n",
      "{'Computer vision': 0.631578947368421, 'Consulting': 0.6885245901639344, 'Fintech': 0.26865671641791045, 'Fish processing equipment': 0.7391304347826086, 'Healthcare': 0.7444444444444445, 'House builders': 0.7142857142857143, 'Industrial vertical investor': 0.5652173913043478, 'Innovative': 0.6052631578947368, 'IoT': 0.532258064516129, 'IT freelance': 0.39344262295081966, 'M&A advisors': 0.6607142857142857, 'Manufacturers': 0.5555555555555556, 'Online games': 0.8, 'Payments tech': 0.6428571428571429, 'PE fund': 0.7352941176470589, 'Procurement software': 0.5409836065573771, 'Resource-efficiency': 0.32857142857142857, 'SaaS': 0.45454545454545453, 'Sustainability': 0.56, 'Wind turbine tech': 0.6071428571428571}\n"
     ]
    }
   ],
   "source": [
    "print(f\"Average accuracy: {np.mean(list(accuracies.values()))}\")\n",
    "print(\"---\")\n",
    "print(accuracies)"
   ]
  },
  {
   "cell_type": "code",
   "execution_count": 95,
   "metadata": {},
   "outputs": [
    {
     "data": {
      "image/png": "[encoded data removed]",
      "text/plain": [
       "<Figure size 1296x288 with 1 Axes>"
      ]
     },
     "metadata": {
      "needs_background": "light"
     },
     "output_type": "display_data"
    }
   ],
   "source": [
    "_,_ = plot_accuracies(accuracies, \"Logistic\")\n",
    "plt.show()"
   ]
  },
  {
   "cell_type": "markdown",
   "metadata": {},
   "source": [
    "#### XGBoost"
   ]
  },
  {
   "cell_type": "code",
   "execution_count": 96,
   "metadata": {},
   "outputs": [
    {
     "name": "stderr",
     "output_type": "stream",
     "text": [
      "100%|██████████| 20/20 [00:00<00:00, 89.17it/s]\n",
      "100%|██████████| 20/20 [03:17<00:00,  9.89s/it]\n"
     ]
    }
   ],
   "source": [
    "dfcs = {}\n",
    "accuracies = {}\n",
    "\n",
    "xg_reg = xgb.XGBRegressor(objective ='reg:squarederror', n_jobs=multiprocessing.cpu_count() // 2)\n",
    "\n",
    "# Create all the dfcs once\n",
    "for file_name in tqdm(file_names):\n",
    "    dfcs[file_name] = DataFrameClassifier(dff=full_dff, glove_embeddings=glove_embeddings, file_name=file_name, verbose=False)\n",
    "\n",
    "# Calculate the accuracies\n",
    "for test_file in tqdm(file_names):\n",
    "\n",
    "    X_train, y_train = [], []\n",
    "    X_test, y_test = dfcs[test_file].get_feature_vectors(split=False)\n",
    "    \n",
    "    for train_file in file_names:\n",
    "        if train_file == test_file:\n",
    "            continue\n",
    "        new_X_train, new_y_train = dfcs[train_file].get_feature_vectors(split=False)\n",
    "        X_train.extend(new_X_train)\n",
    "        y_train.extend(new_y_train)\n",
    "        \n",
    "    \n",
    "    xg_reg.fit(X_train, y_train)\n",
    "    preds = xg_reg.predict(X_test)\n",
    "    score = np.sqrt(mean_squared_error(y_test, preds))\n",
    "    \n",
    "    accuracies[test_file] = score"
   ]
  },
  {
   "cell_type": "code",
   "execution_count": 97,
   "metadata": {},
   "outputs": [
    {
     "name": "stdout",
     "output_type": "stream",
     "text": [
      "Average accuracy: 0.5465978642541649\n",
      "---\n",
      "{'Computer vision': 0.548190316927572, 'Consulting': 0.41840956473518925, 'Fintech': 0.6108258305478755, 'Fish processing equipment': 0.5064315555251498, 'Healthcare': 0.5825461715070437, 'House builders': 0.5190802430878693, 'Industrial vertical investor': 0.5714688166583541, 'Innovative': 0.5192277340450587, 'IoT': 0.4714545522688264, 'IT freelance': 0.591736473377535, 'M&A advisors': 0.5039259442738117, 'Manufacturers': 0.6031444148289897, 'Online games': 0.5103487021497777, 'Payments tech': 0.5865123797786015, 'PE fund': 0.5174380865833266, 'Procurement software': 0.5443703808178287, 'Resource-efficiency': 0.6080774815194273, 'SaaS': 0.6406562604502892, 'Sustainability': 0.4757208134680511, 'Wind turbine tech': 0.6023915625327213}\n"
     ]
    }
   ],
   "source": [
    "print(f\"Average accuracy: {np.mean(list(accuracies.values()))}\")\n",
    "print(\"---\")\n",
    "print(accuracies)"
   ]
  },
  {
   "cell_type": "code",
   "execution_count": 98,
   "metadata": {},
   "outputs": [
    {
     "data": {
      "image/png": "[encoded data removed]",
      "text/plain": [
       "<Figure size 1296x288 with 1 Axes>"
      ]
     },
     "metadata": {
      "needs_background": "light"
     },
     "output_type": "display_data"
    }
   ],
   "source": [
    "_,_ = plot_accuracies(accuracies, \"XGBoost\")\n",
    "plt.show()"
   ]
  },
  {
   "cell_type": "markdown",
   "metadata": {},
   "source": [
    "# Crossvalidation "
   ]
  },
  {
   "cell_type": "markdown",
   "metadata": {},
   "source": [
    "## XGBoost"
   ]
  },
  {
   "cell_type": "markdown",
   "metadata": {},
   "source": [
    "### Train"
   ]
  },
  {
   "cell_type": "code",
   "execution_count": null,
   "metadata": {},
   "outputs": [
    {
     "name": "stdout",
     "output_type": "stream",
     "text": [
      "Fitting 5 folds for each of 15 candidates, totalling 75 fits\n",
      "-0.28686038591100343\n",
      "{'booster': 'gblinear', 'n_estimators': 5}\n"
     ]
    }
   ],
   "source": [
    "\n",
    "dfc = DataFrameClassifier(dff=full_dff, glove_embeddings=glove_embeddings, file_name='Computer vision')\n",
    "X_train, y_train = dfc.get_feature_vectors(split=False)\n",
    "\n",
    "dfc = DataFrameClassifier(dff=full_dff, glove_embeddings=glove_embeddings, file_name='Consulting')\n",
    "X_test, y_test = dfc.get_feature_vectors(split=False)\n",
    "\n",
    "xgb_model = xgb.XGBRegressor(objective ='reg:squarederror', n_jobs=multiprocessing.cpu_count() // 2)\n",
    "clf = GridSearchCV(xgb_model, {\n",
    "    'booster' : ['gbtree', 'gblinear', 'dart'],\n",
    "    'n_estimators' : [1, 5, 10, 20, 50]\n",
    "    }, \n",
    "    verbose=1,\n",
    "    n_jobs=2\n",
    ")\n",
    "clf.fit(X_train, y_train)\n",
    "print(clf.best_score_)\n",
    "print(clf.best_params_)"
   ]
  },
  {
   "cell_type": "markdown",
   "metadata": {},
   "source": [
    "### Test"
   ]
  },
  {
   "cell_type": "code",
   "execution_count": null,
   "metadata": {},
   "outputs": [
    {
     "data": {
      "text/plain": [
       "0.6378804294309922"
      ]
     },
     "execution_count": 62,
     "metadata": {},
     "output_type": "execute_result"
    }
   ],
   "source": [
    "xg_reg = xgb.XGBRegressor(objective ='reg:squarederror', n_jobs=multiprocessing.cpu_count() // 2)\n",
    "xg_reg.fit(X_train, y_train)\n",
    "preds = xg_reg.predict(X_test)\n",
    "score = np.sqrt(mean_squared_error(y_test, preds))\n",
    "score"
   ]
  }
 ],
 "metadata": {
  "interpreter": {
   "hash": "c6e4e9f98eb68ad3b7c296f83d20e6de614cb42e90992a65aa266555a3137d0d"
  },
  "kernelspec": {
   "display_name": "Python 3.9.6",
   "language": "python",
   "name": "python3"
  },
  "language_info": {
   "codemirror_mode": {
    "name": "ipython",
    "version": 3
   },
   "file_extension": ".py",
   "mimetype": "text/x-python",
   "name": "python",
   "nbconvert_exporter": "python",
   "pygments_lexer": "ipython3",
   "version": "3.9.6"
  },
  "orig_nbformat": 4
 },
 "nbformat": 4,
 "nbformat_minor": 2
}