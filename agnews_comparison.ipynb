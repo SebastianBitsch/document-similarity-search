{
 "cells": [
  {
   "cell_type": "code",
   "execution_count": 35,
   "metadata": {},
   "outputs": [],
   "source": [
    "from tqdm import tqdm\n",
    "from sklearn.feature_extraction.text import TfidfVectorizer\n",
    "\n",
    "\n",
    "from sklearn.linear_model import LogisticRegression\n",
    "from sklearn.model_selection import train_test_split\n",
    "from sklearn.metrics import PrecisionRecallDisplay, precision_recall_curve\n",
    "\n",
    "import xgboost as xgb\n",
    "xgb.set_config(verbosity=1)\n",
    "\n",
    "from util.Util import read_csv\n",
    "from df_features import DataFrameFeatures\n",
    "from df_classifier import DataFrameClassifier\n",
    "\n"
   ]
  },
  {
   "cell_type": "code",
   "execution_count": 36,
   "metadata": {},
   "outputs": [
    {
     "name": "stdout",
     "output_type": "stream",
     "text": [
      "* Reading CSV from path: util/glove/glove.42B.300d.txt. Size: (1917494, 300)\n"
     ]
    },
    {
     "name": "stderr",
     "output_type": "stream",
     "text": [
      "1917494it [00:23, 80433.98it/s]\n"
     ]
    }
   ],
   "source": [
    "# Read GLOVE embeddings from file\n",
    "glove_df = read_csv('util/glove/glove.42B.300d.txt', sep=\" \", index_col=0, quoting=3, header=None)\n",
    "glove_embeddings = {key: val.values for key, val in tqdm(glove_df.T.items())}\n",
    "del glove_df # Delete glove_df to free up memory"
   ]
  },
  {
   "cell_type": "code",
   "execution_count": 37,
   "metadata": {},
   "outputs": [
    {
     "name": "stdout",
     "output_type": "stream",
     "text": [
      "* Reading CSV from path: data/comparison_data/agnews_cleaned.csv. Size: (7190, 4)\n"
     ]
    }
   ],
   "source": [
    "# Read the cleaned dataframe\n",
    "full_df = read_csv('data/comparison_data/agnews_cleaned.csv')\n",
    "full_df = full_df[(full_df['Rating'] == 1) | (full_df['Rating'] == 2)]\n",
    "full_df['Rating'] = full_df['Rating'] - 1\n",
    "full_df['NACE'] = 1111.0\n",
    "full_df['id'] = range(len(full_df))\n",
    "full_df = full_df.iloc[:500]\n",
    "\n",
    "# Create tf-idf vectorizer using the main col and a max of 250 features\n",
    "main_col = 'description_no_stopwords'\n",
    "vectorizer = TfidfVectorizer(max_features=250)\n",
    "vectorizer.fit_transform(full_df[main_col])\n",
    "\n",
    "full_dff = DataFrameFeatures(df=full_df, vectorizer=vectorizer, main_col=main_col, verbose=False)"
   ]
  },
  {
   "cell_type": "code",
   "execution_count": 38,
   "metadata": {},
   "outputs": [
    {
     "data": {
      "text/html": [
       "<div>\n",
       "<style scoped>\n",
       "    .dataframe tbody tr th:only-of-type {\n",
       "        vertical-align: middle;\n",
       "    }\n",
       "\n",
       "    .dataframe tbody tr th {\n",
       "        vertical-align: top;\n",
       "    }\n",
       "\n",
       "    .dataframe thead th {\n",
       "        text-align: right;\n",
       "    }\n",
       "</style>\n",
       "<table border=\"1\" class=\"dataframe\">\n",
       "  <thead>\n",
       "    <tr style=\"text-align: right;\">\n",
       "      <th></th>\n",
       "      <th>Rating</th>\n",
       "      <th>description</th>\n",
       "      <th>description_no_stopwords</th>\n",
       "      <th>description_no_stopwords_stemmed</th>\n",
       "      <th>NACE</th>\n",
       "      <th>id</th>\n",
       "    </tr>\n",
       "  </thead>\n",
       "  <tbody>\n",
       "    <tr>\n",
       "      <th>20</th>\n",
       "      <td>1</td>\n",
       "      <td>michael phelps won the gold medal in the indiv...</td>\n",
       "      <td>michael phelps gold medal individual medley se...</td>\n",
       "      <td>michael phelp gold medal individu medley set w...</td>\n",
       "      <td>1111.0</td>\n",
       "      <td>0</td>\n",
       "    </tr>\n",
       "    <tr>\n",
       "      <th>21</th>\n",
       "      <td>1</td>\n",
       "      <td>in quot helping themselves quot ricky bryant c...</td>\n",
       "      <td>quot helping quot ricky bryant chas gessner mi...</td>\n",
       "      <td>quot help quot ricki bryant chas gessner micha...</td>\n",
       "      <td>1111.0</td>\n",
       "      <td>1</td>\n",
       "    </tr>\n",
       "    <tr>\n",
       "      <th>22</th>\n",
       "      <td>1</td>\n",
       "      <td>the cleveland indians pulled within one game o...</td>\n",
       "      <td>cleveland indians pulled within one game al ce...</td>\n",
       "      <td>cleveland indian pull within one game al centr...</td>\n",
       "      <td>1111.0</td>\n",
       "      <td>2</td>\n",
       "    </tr>\n",
       "    <tr>\n",
       "      <th>23</th>\n",
       "      <td>0</td>\n",
       "      <td>canadian press vancouver cp the sister of a ma...</td>\n",
       "      <td>canadian press vancouver cp sister man died vi...</td>\n",
       "      <td>canadian press vancouv cp sister man die viole...</td>\n",
       "      <td>1111.0</td>\n",
       "      <td>3</td>\n",
       "    </tr>\n",
       "    <tr>\n",
       "      <th>24</th>\n",
       "      <td>0</td>\n",
       "      <td>ap the man who claims gov james e mcgreevey se...</td>\n",
       "      <td>ap man claims gov james e mcgreevey sexually h...</td>\n",
       "      <td>ap man claim gov jame e mcgreevey sexual haras...</td>\n",
       "      <td>1111.0</td>\n",
       "      <td>4</td>\n",
       "    </tr>\n",
       "    <tr>\n",
       "      <th>...</th>\n",
       "      <td>...</td>\n",
       "      <td>...</td>\n",
       "      <td>...</td>\n",
       "      <td>...</td>\n",
       "      <td>...</td>\n",
       "      <td>...</td>\n",
       "    </tr>\n",
       "    <tr>\n",
       "      <th>894</th>\n",
       "      <td>1</td>\n",
       "      <td>sports network the kansas city royals try to g...</td>\n",
       "      <td>sports network kansas city royals try get back...</td>\n",
       "      <td>sport network kansa citi royal tri get back wi...</td>\n",
       "      <td>1111.0</td>\n",
       "      <td>495</td>\n",
       "    </tr>\n",
       "    <tr>\n",
       "      <th>895</th>\n",
       "      <td>1</td>\n",
       "      <td>sports network the montreal expos were handed ...</td>\n",
       "      <td>sports network montreal expos handed setback m...</td>\n",
       "      <td>sport network montreal expo hand setback monda...</td>\n",
       "      <td>1111.0</td>\n",
       "      <td>496</td>\n",
       "    </tr>\n",
       "    <tr>\n",
       "      <th>898</th>\n",
       "      <td>0</td>\n",
       "      <td>rebels struggle to make headway in talks aimin...</td>\n",
       "      <td>rebels struggle make headway talks aiming ease...</td>\n",
       "      <td>rebel struggl make headway talk aim eas confli...</td>\n",
       "      <td>1111.0</td>\n",
       "      <td>497</td>\n",
       "    </tr>\n",
       "    <tr>\n",
       "      <th>903</th>\n",
       "      <td>1</td>\n",
       "      <td>ap ron francis turned down a front office job ...</td>\n",
       "      <td>ap ron francis turned front office job carolin...</td>\n",
       "      <td>ap ron franci turn front offic job carolina hu...</td>\n",
       "      <td>1111.0</td>\n",
       "      <td>498</td>\n",
       "    </tr>\n",
       "    <tr>\n",
       "      <th>904</th>\n",
       "      <td>1</td>\n",
       "      <td>athens reuters greek sprinters costas kenteris...</td>\n",
       "      <td>athens reuters greek sprinters costas kenteris...</td>\n",
       "      <td>athen reuter greek sprinter costa kenteri kate...</td>\n",
       "      <td>1111.0</td>\n",
       "      <td>499</td>\n",
       "    </tr>\n",
       "  </tbody>\n",
       "</table>\n",
       "<p>500 rows × 6 columns</p>\n",
       "</div>"
      ],
      "text/plain": [
       "     Rating                                        description  \\\n",
       "20        1  michael phelps won the gold medal in the indiv...   \n",
       "21        1  in quot helping themselves quot ricky bryant c...   \n",
       "22        1  the cleveland indians pulled within one game o...   \n",
       "23        0  canadian press vancouver cp the sister of a ma...   \n",
       "24        0  ap the man who claims gov james e mcgreevey se...   \n",
       "..      ...                                                ...   \n",
       "894       1  sports network the kansas city royals try to g...   \n",
       "895       1  sports network the montreal expos were handed ...   \n",
       "898       0  rebels struggle to make headway in talks aimin...   \n",
       "903       1  ap ron francis turned down a front office job ...   \n",
       "904       1  athens reuters greek sprinters costas kenteris...   \n",
       "\n",
       "                              description_no_stopwords  \\\n",
       "20   michael phelps gold medal individual medley se...   \n",
       "21   quot helping quot ricky bryant chas gessner mi...   \n",
       "22   cleveland indians pulled within one game al ce...   \n",
       "23   canadian press vancouver cp sister man died vi...   \n",
       "24   ap man claims gov james e mcgreevey sexually h...   \n",
       "..                                                 ...   \n",
       "894  sports network kansas city royals try get back...   \n",
       "895  sports network montreal expos handed setback m...   \n",
       "898  rebels struggle make headway talks aiming ease...   \n",
       "903  ap ron francis turned front office job carolin...   \n",
       "904  athens reuters greek sprinters costas kenteris...   \n",
       "\n",
       "                      description_no_stopwords_stemmed    NACE   id  \n",
       "20   michael phelp gold medal individu medley set w...  1111.0    0  \n",
       "21   quot help quot ricki bryant chas gessner micha...  1111.0    1  \n",
       "22   cleveland indian pull within one game al centr...  1111.0    2  \n",
       "23   canadian press vancouv cp sister man die viole...  1111.0    3  \n",
       "24   ap man claim gov jame e mcgreevey sexual haras...  1111.0    4  \n",
       "..                                                 ...     ...  ...  \n",
       "894  sport network kansa citi royal tri get back wi...  1111.0  495  \n",
       "895  sport network montreal expo hand setback monda...  1111.0  496  \n",
       "898  rebel struggl make headway talk aim eas confli...  1111.0  497  \n",
       "903  ap ron franci turn front offic job carolina hu...  1111.0  498  \n",
       "904  athen reuter greek sprinter costa kenteri kate...  1111.0  499  \n",
       "\n",
       "[500 rows x 6 columns]"
      ]
     },
     "execution_count": 38,
     "metadata": {},
     "output_type": "execute_result"
    }
   ],
   "source": [
    "full_df"
   ]
  },
  {
   "cell_type": "code",
   "execution_count": 39,
   "metadata": {},
   "outputs": [],
   "source": [
    "train_indices, test_indices = train_test_split(range(0,len(full_dff.documents())), test_size=0.33, random_state=42)"
   ]
  },
  {
   "cell_type": "markdown",
   "metadata": {},
   "source": [
    "### Classify with tf-idf vectors"
   ]
  },
  {
   "cell_type": "code",
   "execution_count": 40,
   "metadata": {},
   "outputs": [
    {
     "name": "stdout",
     "output_type": "stream",
     "text": [
      "Initializing DataFrameFeatures object\n"
     ]
    }
   ],
   "source": [
    "dfc = DataFrameClassifier(full_dff, glove_embeddings)"
   ]
  },
  {
   "cell_type": "code",
   "execution_count": 41,
   "metadata": {},
   "outputs": [],
   "source": [
    "X, y = dfc.get_tfidf_vectors()\n",
    "\n",
    "X_train, y_train = X[train_indices], y[train_indices]\n",
    "X_test, y_test = X[test_indices], y[test_indices]"
   ]
  },
  {
   "cell_type": "code",
   "execution_count": 42,
   "metadata": {},
   "outputs": [
    {
     "data": {
      "text/plain": [
       "0.9030303030303031"
      ]
     },
     "execution_count": 42,
     "metadata": {},
     "output_type": "execute_result"
    }
   ],
   "source": [
    "clf = LogisticRegression(random_state=0, class_weight='balanced', fit_intercept=False).fit(X_train, y_train)\n",
    "clf.score(X_test,y_test)"
   ]
  },
  {
   "cell_type": "code",
   "execution_count": 43,
   "metadata": {},
   "outputs": [
    {
     "data": {
      "text/plain": [
       "0.793939393939394"
      ]
     },
     "execution_count": 43,
     "metadata": {},
     "output_type": "execute_result"
    }
   ],
   "source": [
    "xg = xgb.XGBClassifier(use_label_encoder=False, eval_metric='map')\n",
    "xg.fit(X_train, y_train)\n",
    "xg.score(X_test, y_test)"
   ]
  },
  {
   "cell_type": "code",
   "execution_count": 44,
   "metadata": {},
   "outputs": [
    {
     "data": {
      "text/plain": [
       "<sklearn.metrics._plot.precision_recall_curve.PrecisionRecallDisplay at 0x7f9d25dc9f10>"
      ]
     },
     "execution_count": 44,
     "metadata": {},
     "output_type": "execute_result"
    },
    {
     "data": {
      "image/png": "[encoded data removed]",
      "text/plain": [
       "<Figure size 432x288 with 1 Axes>"
      ]
     },
     "metadata": {
      "needs_background": "light"
     },
     "output_type": "display_data"
    }
   ],
   "source": [
    "precision, recall, _ = precision_recall_curve(y_test, clf.predict(X_test))\n",
    "disp = PrecisionRecallDisplay(precision=precision, recall=recall)\n",
    "disp.plot()"
   ]
  },
  {
   "cell_type": "markdown",
   "metadata": {},
   "source": [
    "### Classify with feature vectors"
   ]
  },
  {
   "cell_type": "code",
   "execution_count": 45,
   "metadata": {},
   "outputs": [],
   "source": [
    "X, y = dfc.get_feature_vectors()\n",
    "\n",
    "X_train, y_train = X[train_indices], y[train_indices]\n",
    "X_test, y_test = X[test_indices], y[test_indices]"
   ]
  },
  {
   "cell_type": "code",
   "execution_count": 46,
   "metadata": {},
   "outputs": [
    {
     "data": {
      "text/plain": [
       "0.7393939393939394"
      ]
     },
     "execution_count": 46,
     "metadata": {},
     "output_type": "execute_result"
    }
   ],
   "source": [
    "clf = LogisticRegression(random_state=0, class_weight='balanced', fit_intercept=False).fit(X_train, y_train)\n",
    "clf.score(X_test, y_test)"
   ]
  },
  {
   "cell_type": "code",
   "execution_count": 47,
   "metadata": {},
   "outputs": [
    {
     "data": {
      "text/plain": [
       "0.7575757575757576"
      ]
     },
     "execution_count": 47,
     "metadata": {},
     "output_type": "execute_result"
    }
   ],
   "source": [
    "xg = xgb.XGBClassifier(use_label_encoder=False, eval_metric='map')\n",
    "xg.fit(X_train, y_train)\n",
    "xg.score(X_test, y_test)"
   ]
  },
  {
   "cell_type": "code",
   "execution_count": 48,
   "metadata": {},
   "outputs": [
    {
     "data": {
      "text/plain": [
       "<sklearn.metrics._plot.precision_recall_curve.PrecisionRecallDisplay at 0x7f9b340536a0>"
      ]
     },
     "execution_count": 48,
     "metadata": {},
     "output_type": "execute_result"
    },
    {
     "data": {
      "image/png": "[encoded data removed]",
      "text/plain": [
       "<Figure size 432x288 with 1 Axes>"
      ]
     },
     "metadata": {
      "needs_background": "light"
     },
     "output_type": "display_data"
    }
   ],
   "source": [
    "precision, recall, _ = precision_recall_curve(y_test, clf.predict(X_test))\n",
    "disp = PrecisionRecallDisplay(precision=precision, recall=recall)\n",
    "disp.plot()"
   ]
  }
 ],
 "metadata": {
  "interpreter": {
   "hash": "98e209c0c079eda3a7c6693f6d47ddaebb956ef4ec9d4998363437f41a2e508b"
  },
  "kernelspec": {
   "display_name": "Python 3.9.7 ('base')",
   "language": "python",
   "name": "python3"
  },
  "language_info": {
   "codemirror_mode": {
    "name": "ipython",
    "version": 3
   },
   "file_extension": ".py",
   "mimetype": "text/x-python",
   "name": "python",
   "nbconvert_exporter": "python",
   "pygments_lexer": "ipython3",
   "version": "3.9.7"
  },
  "orig_nbformat": 4
 },
 "nbformat": 4,
 "nbformat_minor": 2
}
