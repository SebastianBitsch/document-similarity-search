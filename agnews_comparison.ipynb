{
 "cells": [
  {
   "cell_type": "code",
   "execution_count": 24,
   "metadata": {},
   "outputs": [],
   "source": [
    "from tqdm import tqdm\n",
    "from sklearn.feature_extraction.text import TfidfVectorizer\n",
    "\n",
    "\n",
    "from sklearn.linear_model import LogisticRegression\n",
    "from sklearn.model_selection import train_test_split\n",
    "\n",
    "import xgboost as xgb\n",
    "xgb.set_config(verbosity=1)\n",
    "\n",
    "from util.Util import plot_accuracies, read_csv\n",
    "from df_features import DataFrameFeatures\n",
    "from df_classifier import DataFrameClassifier"
   ]
  },
  {
   "cell_type": "code",
   "execution_count": 25,
   "metadata": {},
   "outputs": [
    {
     "name": "stdout",
     "output_type": "stream",
     "text": [
      "* Reading CSV from path: util/glove/glove.42B.300d.txt. Size: (1917494, 300)\n"
     ]
    },
    {
     "name": "stderr",
     "output_type": "stream",
     "text": [
      "1917494it [00:22, 83892.67it/s]\n"
     ]
    }
   ],
   "source": [
    "# Read GLOVE embeddings from file\n",
    "glove_df = read_csv('util/glove/glove.42B.300d.txt', sep=\" \", index_col=0, quoting=3, header=None)\n",
    "glove_embeddings = {key: val.values for key, val in tqdm(glove_df.T.items())}\n",
    "del glove_df # Delete glove_df to free up memory"
   ]
  },
  {
   "cell_type": "code",
   "execution_count": 26,
   "metadata": {},
   "outputs": [
    {
     "name": "stdout",
     "output_type": "stream",
     "text": [
      "* Reading CSV from path: data/comparison_data/agnews_cleaned.csv. Size: (7190, 4)\n",
      "main col: description_no_stopwords_stemmed\n"
     ]
    }
   ],
   "source": [
    "# Read the cleaned dataframe\n",
    "full_df = read_csv('data/comparison_data/agnews_cleaned.csv')\n",
    "full_df = full_df[(full_df['Rating'] == 1) | (full_df['Rating'] == 2)]\n",
    "full_df['Rating'] = full_df['Rating'] - 1\n",
    "full_df['NACE'] = 1111.0\n",
    "full_df['id'] = range(len(full_df))\n",
    "full_df = full_df.iloc[:250]\n",
    "\n",
    "# Create tf-idf vectorizer using the main col and a max of 250 features\n",
    "main_col = 'description_no_stopwords_stemmed'\n",
    "vectorizer = TfidfVectorizer(max_features=250)\n",
    "vectorizer.fit_transform(full_df[main_col])\n",
    "\n",
    "full_dff = DataFrameFeatures(df=full_df, vectorizer=vectorizer, main_col=main_col, verbose=False)"
   ]
  },
  {
   "cell_type": "code",
   "execution_count": 27,
   "metadata": {},
   "outputs": [
    {
     "data": {
      "text/html": [
       "<div>\n",
       "<style scoped>\n",
       "    .dataframe tbody tr th:only-of-type {\n",
       "        vertical-align: middle;\n",
       "    }\n",
       "\n",
       "    .dataframe tbody tr th {\n",
       "        vertical-align: top;\n",
       "    }\n",
       "\n",
       "    .dataframe thead th {\n",
       "        text-align: right;\n",
       "    }\n",
       "</style>\n",
       "<table border=\"1\" class=\"dataframe\">\n",
       "  <thead>\n",
       "    <tr style=\"text-align: right;\">\n",
       "      <th></th>\n",
       "      <th>Rating</th>\n",
       "      <th>description</th>\n",
       "      <th>description_no_stopwords</th>\n",
       "      <th>description_no_stopwords_stemmed</th>\n",
       "      <th>NACE</th>\n",
       "      <th>id</th>\n",
       "    </tr>\n",
       "  </thead>\n",
       "  <tbody>\n",
       "    <tr>\n",
       "      <th>20</th>\n",
       "      <td>1</td>\n",
       "      <td>michael phelps won the gold medal in the indiv...</td>\n",
       "      <td>michael phelps gold medal individual medley se...</td>\n",
       "      <td>michael phelp gold medal individu medley set w...</td>\n",
       "      <td>1111.0</td>\n",
       "      <td>0</td>\n",
       "    </tr>\n",
       "    <tr>\n",
       "      <th>21</th>\n",
       "      <td>1</td>\n",
       "      <td>in quot helping themselves quot ricky bryant c...</td>\n",
       "      <td>quot helping quot ricky bryant chas gessner mi...</td>\n",
       "      <td>quot help quot ricki bryant chas gessner micha...</td>\n",
       "      <td>1111.0</td>\n",
       "      <td>1</td>\n",
       "    </tr>\n",
       "    <tr>\n",
       "      <th>22</th>\n",
       "      <td>1</td>\n",
       "      <td>the cleveland indians pulled within one game o...</td>\n",
       "      <td>cleveland indians pulled within one game al ce...</td>\n",
       "      <td>cleveland indian pull within one game al centr...</td>\n",
       "      <td>1111.0</td>\n",
       "      <td>2</td>\n",
       "    </tr>\n",
       "    <tr>\n",
       "      <th>23</th>\n",
       "      <td>0</td>\n",
       "      <td>canadian press vancouver cp the sister of a ma...</td>\n",
       "      <td>canadian press vancouver cp sister man died vi...</td>\n",
       "      <td>canadian press vancouv cp sister man die viole...</td>\n",
       "      <td>1111.0</td>\n",
       "      <td>3</td>\n",
       "    </tr>\n",
       "    <tr>\n",
       "      <th>24</th>\n",
       "      <td>0</td>\n",
       "      <td>ap the man who claims gov james e mcgreevey se...</td>\n",
       "      <td>ap man claims gov james e mcgreevey sexually h...</td>\n",
       "      <td>ap man claim gov jame e mcgreevey sexual haras...</td>\n",
       "      <td>1111.0</td>\n",
       "      <td>4</td>\n",
       "    </tr>\n",
       "    <tr>\n",
       "      <th>...</th>\n",
       "      <td>...</td>\n",
       "      <td>...</td>\n",
       "      <td>...</td>\n",
       "      <td>...</td>\n",
       "      <td>...</td>\n",
       "      <td>...</td>\n",
       "    </tr>\n",
       "    <tr>\n",
       "      <th>442</th>\n",
       "      <td>1</td>\n",
       "      <td>the san diego chargers finally reached a contr...</td>\n",
       "      <td>san diego chargers finally reached contract ag...</td>\n",
       "      <td>san diego charger final reach contract agreeme...</td>\n",
       "      <td>1111.0</td>\n",
       "      <td>245</td>\n",
       "    </tr>\n",
       "    <tr>\n",
       "      <th>443</th>\n",
       "      <td>1</td>\n",
       "      <td>the nfl s highest scoring offense is averaging...</td>\n",
       "      <td>nfl highest scoring offense averaging two touc...</td>\n",
       "      <td>nfl highest score offens averag two touchdown ...</td>\n",
       "      <td>1111.0</td>\n",
       "      <td>246</td>\n",
       "    </tr>\n",
       "    <tr>\n",
       "      <th>445</th>\n",
       "      <td>1</td>\n",
       "      <td>the us softball team completed its scorched ea...</td>\n",
       "      <td>us softball team completed scorched earth run ...</td>\n",
       "      <td>us softbal team complet scorch earth run olymp...</td>\n",
       "      <td>1111.0</td>\n",
       "      <td>247</td>\n",
       "    </tr>\n",
       "    <tr>\n",
       "      <th>448</th>\n",
       "      <td>1</td>\n",
       "      <td>athens the booing went on for nearly minutes w...</td>\n",
       "      <td>athens booing went nearly minutes paul hamm ch...</td>\n",
       "      <td>athen boo went near minut paul hamm chalk read...</td>\n",
       "      <td>1111.0</td>\n",
       "      <td>248</td>\n",
       "    </tr>\n",
       "    <tr>\n",
       "      <th>449</th>\n",
       "      <td>0</td>\n",
       "      <td>a bosnian serb general accused of organising t...</td>\n",
       "      <td>bosnian serb general accused organising siege ...</td>\n",
       "      <td>bosnian serb general accus organis sieg saraje...</td>\n",
       "      <td>1111.0</td>\n",
       "      <td>249</td>\n",
       "    </tr>\n",
       "  </tbody>\n",
       "</table>\n",
       "<p>250 rows × 6 columns</p>\n",
       "</div>"
      ],
      "text/plain": [
       "     Rating                                        description  \\\n",
       "20        1  michael phelps won the gold medal in the indiv...   \n",
       "21        1  in quot helping themselves quot ricky bryant c...   \n",
       "22        1  the cleveland indians pulled within one game o...   \n",
       "23        0  canadian press vancouver cp the sister of a ma...   \n",
       "24        0  ap the man who claims gov james e mcgreevey se...   \n",
       "..      ...                                                ...   \n",
       "442       1  the san diego chargers finally reached a contr...   \n",
       "443       1  the nfl s highest scoring offense is averaging...   \n",
       "445       1  the us softball team completed its scorched ea...   \n",
       "448       1  athens the booing went on for nearly minutes w...   \n",
       "449       0  a bosnian serb general accused of organising t...   \n",
       "\n",
       "                              description_no_stopwords  \\\n",
       "20   michael phelps gold medal individual medley se...   \n",
       "21   quot helping quot ricky bryant chas gessner mi...   \n",
       "22   cleveland indians pulled within one game al ce...   \n",
       "23   canadian press vancouver cp sister man died vi...   \n",
       "24   ap man claims gov james e mcgreevey sexually h...   \n",
       "..                                                 ...   \n",
       "442  san diego chargers finally reached contract ag...   \n",
       "443  nfl highest scoring offense averaging two touc...   \n",
       "445  us softball team completed scorched earth run ...   \n",
       "448  athens booing went nearly minutes paul hamm ch...   \n",
       "449  bosnian serb general accused organising siege ...   \n",
       "\n",
       "                      description_no_stopwords_stemmed    NACE   id  \n",
       "20   michael phelp gold medal individu medley set w...  1111.0    0  \n",
       "21   quot help quot ricki bryant chas gessner micha...  1111.0    1  \n",
       "22   cleveland indian pull within one game al centr...  1111.0    2  \n",
       "23   canadian press vancouv cp sister man die viole...  1111.0    3  \n",
       "24   ap man claim gov jame e mcgreevey sexual haras...  1111.0    4  \n",
       "..                                                 ...     ...  ...  \n",
       "442  san diego charger final reach contract agreeme...  1111.0  245  \n",
       "443  nfl highest score offens averag two touchdown ...  1111.0  246  \n",
       "445  us softbal team complet scorch earth run olymp...  1111.0  247  \n",
       "448  athen boo went near minut paul hamm chalk read...  1111.0  248  \n",
       "449  bosnian serb general accus organis sieg saraje...  1111.0  249  \n",
       "\n",
       "[250 rows x 6 columns]"
      ]
     },
     "execution_count": 27,
     "metadata": {},
     "output_type": "execute_result"
    }
   ],
   "source": [
    "full_df"
   ]
  },
  {
   "cell_type": "code",
   "execution_count": 28,
   "metadata": {},
   "outputs": [],
   "source": [
    "train_indices, test_indices = train_test_split(range(0,len(full_dff.documents())), test_size=0.33, random_state=42)"
   ]
  },
  {
   "cell_type": "markdown",
   "metadata": {},
   "source": [
    "### Classify with tf-idf vectors"
   ]
  },
  {
   "cell_type": "code",
   "execution_count": 29,
   "metadata": {},
   "outputs": [
    {
     "name": "stdout",
     "output_type": "stream",
     "text": [
      "Initializing DataFrameFeatures object\n",
      "main col: description_no_stopwords_stemmed\n"
     ]
    }
   ],
   "source": [
    "dfc = DataFrameClassifier(full_dff, glove_embeddings)"
   ]
  },
  {
   "cell_type": "code",
   "execution_count": 30,
   "metadata": {},
   "outputs": [],
   "source": [
    "X, y = dfc.get_tfidf_vectors()\n",
    "\n",
    "X_train, y_train = X[train_indices], y[train_indices]\n",
    "X_test, y_test = X[test_indices], y[test_indices]"
   ]
  },
  {
   "cell_type": "code",
   "execution_count": 31,
   "metadata": {},
   "outputs": [
    {
     "data": {
      "text/plain": [
       "0.891566265060241"
      ]
     },
     "execution_count": 31,
     "metadata": {},
     "output_type": "execute_result"
    }
   ],
   "source": [
    "clf = LogisticRegression(random_state=0, class_weight='balanced', fit_intercept=False).fit(X_train, y_train)\n",
    "clf.score(X_test,y_test)"
   ]
  },
  {
   "cell_type": "markdown",
   "metadata": {},
   "source": [
    "### Classify with feature vectors"
   ]
  },
  {
   "cell_type": "code",
   "execution_count": 32,
   "metadata": {},
   "outputs": [],
   "source": [
    "# Takes a while to run! \n",
    "X, y = dfc.get_feature_vectors()\n",
    "\n",
    "X_train, y_train = X[train_indices], y[train_indices]\n",
    "X_test, y_test = X[test_indices], y[test_indices]"
   ]
  },
  {
   "cell_type": "code",
   "execution_count": 33,
   "metadata": {},
   "outputs": [
    {
     "data": {
      "text/plain": [
       "0.5783132530120482"
      ]
     },
     "execution_count": 33,
     "metadata": {},
     "output_type": "execute_result"
    }
   ],
   "source": [
    "clf = LogisticRegression(random_state=0, class_weight='balanced', fit_intercept=False).fit(X_train, y_train)\n",
    "clf.score(X_test, y_test)\n"
   ]
  },
  {
   "cell_type": "code",
   "execution_count": 34,
   "metadata": {},
   "outputs": [
    {
     "data": {
      "text/plain": [
       "array([[0.34298049]])"
      ]
     },
     "execution_count": 34,
     "metadata": {},
     "output_type": "execute_result"
    }
   ],
   "source": [
    "clf.coef_"
   ]
  },
  {
   "cell_type": "code",
   "execution_count": 35,
   "metadata": {},
   "outputs": [
    {
     "data": {
      "text/plain": [
       "0.6867469879518072"
      ]
     },
     "execution_count": 35,
     "metadata": {},
     "output_type": "execute_result"
    }
   ],
   "source": [
    "clf = LogisticRegression(random_state=0, class_weight='balanced').fit(X_train, y_train)\n",
    "clf.score(X_test, y_test)"
   ]
  },
  {
   "cell_type": "code",
   "execution_count": 36,
   "metadata": {},
   "outputs": [
    {
     "data": {
      "text/plain": [
       "array([[0.36535224]])"
      ]
     },
     "execution_count": 36,
     "metadata": {},
     "output_type": "execute_result"
    }
   ],
   "source": [
    "clf.coef_"
   ]
  },
  {
   "cell_type": "code",
   "execution_count": null,
   "metadata": {},
   "outputs": [],
   "source": []
  },
  {
   "cell_type": "code",
   "execution_count": null,
   "metadata": {},
   "outputs": [],
   "source": []
  }
 ],
 "metadata": {
  "interpreter": {
   "hash": "98e209c0c079eda3a7c6693f6d47ddaebb956ef4ec9d4998363437f41a2e508b"
  },
  "kernelspec": {
   "display_name": "Python 3.9.7 ('base')",
   "language": "python",
   "name": "python3"
  },
  "language_info": {
   "codemirror_mode": {
    "name": "ipython",
    "version": 3
   },
   "file_extension": ".py",
   "mimetype": "text/x-python",
   "name": "python",
   "nbconvert_exporter": "python",
   "pygments_lexer": "ipython3",
   "version": "3.9.7"
  },
  "orig_nbformat": 4
 },
 "nbformat": 4,
 "nbformat_minor": 2
}
