{
 "cells": [
  {
   "cell_type": "code",
   "execution_count": 1,
   "metadata": {},
   "outputs": [],
   "source": [
    "#\n",
    "import pandas as pd\n",
    "import numpy as np\n",
    "import matplotlib.pyplot as plt\n",
    "from tqdm import tqdm\n",
    "from sklearn.feature_extraction.text import TfidfVectorizer\n",
    "from sklearn.metrics import mean_squared_error\n",
    "from sklearn.metrics import average_precision_score\n",
    "from sklearn.metrics import PrecisionRecallDisplay, precision_recall_curve\n",
    "from util.rank_metrics import mean_average_precision\n",
    "\n",
    "\n",
    "from sklearn.linear_model import LogisticRegression\n",
    "from sklearn.model_selection import GridSearchCV\n",
    "from sklearn.model_selection import train_test_split\n",
    "\n",
    "import xgboost as xgb\n",
    "xgb.set_config(verbosity=1)\n",
    "\n",
    "from util.Util import plot_accuracies, read_csv\n",
    "from df_features import DataFrameFeatures\n",
    "from df_classifier import DataFrameClassifier\n"
   ]
  },
  {
   "cell_type": "code",
   "execution_count": 2,
   "metadata": {},
   "outputs": [
    {
     "name": "stdout",
     "output_type": "stream",
     "text": [
      "* Reading CSV from path: util/glove/glove.42B.300d.txt. Size: (1917494, 300)\n"
     ]
    },
    {
     "name": "stderr",
     "output_type": "stream",
     "text": [
      "1917494it [00:22, 86552.07it/s]\n"
     ]
    }
   ],
   "source": [
    "# Read GLOVE embeddings from file\n",
    "glove_df = read_csv('util/glove/glove.42B.300d.txt', sep=\" \", index_col=0, quoting=3, header=None)\n",
    "glove_embeddings = {key: val.values for key, val in tqdm(glove_df.T.items())}\n",
    "del glove_df # Delete glove_df to free up memory"
   ]
  },
  {
   "cell_type": "code",
   "execution_count": 21,
   "metadata": {},
   "outputs": [
    {
     "name": "stdout",
     "output_type": "stream",
     "text": [
      "* Reading CSV from path: data/comparison_data/agnews_cleaned.csv. Size: (7190, 4)\n"
     ]
    }
   ],
   "source": [
    "# Read the cleaned dataframe\n",
    "full_df = read_csv('data/comparison_data/agnews_cleaned.csv')\n",
    "full_df['id'] = range(len(full_df))\n",
    "full_df = full_df[(full_df['Rating'] == 1) | (full_df['Rating'] == 2)]\n",
    "full_df['Rating'] = full_df['Rating'] - 1\n",
    "full_df['NACE'] = 1111.0\n",
    "\n",
    "# Create tf-idf vectorizer using the main col and a max of 250 features\n",
    "main_col = 'description_no_stopwords'\n",
    "vectorizer = TfidfVectorizer(max_features=250)\n",
    "vectorizer.fit_transform(full_df[main_col])\n",
    "\n",
    "full_dff = DataFrameFeatures(df=full_df, vectorizer=vectorizer, main_col=main_col, verbose=False)"
   ]
  },
  {
   "cell_type": "code",
   "execution_count": 22,
   "metadata": {},
   "outputs": [],
   "source": [
    "train_indices, test_indices = train_test_split(range(0,len(full_dff.documents())), test_size=0.33, random_state=42)"
   ]
  },
  {
   "cell_type": "markdown",
   "metadata": {},
   "source": [
    "### Classify with tf-idf vectors"
   ]
  },
  {
   "cell_type": "code",
   "execution_count": null,
   "metadata": {},
   "outputs": [],
   "source": [
    "dfc = DataFrameClassifier(full_dff, glove_embeddings)\n",
    "\n",
    "X, y = dfc.get_tfidf_vectors()\n",
    "\n",
    "X_train, y_train = X[train_indices], y[train_indices]\n",
    "X_test, y_test = X[test_indices], y[test_indices]"
   ]
  },
  {
   "cell_type": "code",
   "execution_count": null,
   "metadata": {},
   "outputs": [],
   "source": [
    "clf = LogisticRegression(random_state=0, class_weight='balanced', fit_intercept=False).fit(X_train, y_train)\n",
    "clf.score(X_test,y_test)"
   ]
  },
  {
   "cell_type": "markdown",
   "metadata": {},
   "source": [
    "### Classify with feature vectors"
   ]
  },
  {
   "cell_type": "code",
   "execution_count": 23,
   "metadata": {},
   "outputs": [
    {
     "name": "stdout",
     "output_type": "stream",
     "text": [
      "Initializing DataFrameFeatures object\n"
     ]
    }
   ],
   "source": [
    "# Takes a while to run! \n",
    "dfc = DataFrameClassifier(full_dff, glove_embeddings)\n",
    "X, y = dfc.get_feature_vectors()"
   ]
  },
  {
   "cell_type": "code",
   "execution_count": 24,
   "metadata": {},
   "outputs": [],
   "source": [
    "X_train, y_train = X[train_indices], y[train_indices]\n",
    "X_test, y_test = X[test_indices], y[test_indices]"
   ]
  },
  {
   "cell_type": "code",
   "execution_count": 25,
   "metadata": {},
   "outputs": [
    {
     "data": {
      "text/plain": [
       "0.5360995850622406"
      ]
     },
     "execution_count": 25,
     "metadata": {},
     "output_type": "execute_result"
    }
   ],
   "source": [
    "clf = LogisticRegression(random_state=0, class_weight='balanced', fit_intercept=False).fit(X_train, y_train)\n",
    "clf.score(X_test,y_test)\n"
   ]
  },
  {
   "cell_type": "code",
   "execution_count": 26,
   "metadata": {},
   "outputs": [
    {
     "data": {
      "text/plain": [
       "array([[0.0, 0.0, 0.7623876658539033, 1.0, 0.7623876658539033],\n",
       "       [0.0, 0.0, 0.7677636778654313, 1.0, 0.7677636778654313],\n",
       "       [0.0, 0.0, 0.8045612947803527, 1.0, 0.8045612947803527],\n",
       "       ...,\n",
       "       [0.0, 0.0, 0.7425873419034302, 1.0, 0.7425873419034302],\n",
       "       [0.0, 0.0, 0.7156082675592896, 1.0, 0.7156082675592896],\n",
       "       [0.0, 0.0, 0.8149729914073174, 1.0, 0.8149729914073174]],\n",
       "      dtype=object)"
      ]
     },
     "execution_count": 26,
     "metadata": {},
     "output_type": "execute_result"
    }
   ],
   "source": [
    "X # Two first features dont work on new dataset"
   ]
  }
 ],
 "metadata": {
  "interpreter": {
   "hash": "98e209c0c079eda3a7c6693f6d47ddaebb956ef4ec9d4998363437f41a2e508b"
  },
  "kernelspec": {
   "display_name": "Python 3.9.7 ('base')",
   "language": "python",
   "name": "python3"
  },
  "language_info": {
   "codemirror_mode": {
    "name": "ipython",
    "version": 3
   },
   "file_extension": ".py",
   "mimetype": "text/x-python",
   "name": "python",
   "nbconvert_exporter": "python",
   "pygments_lexer": "ipython3",
   "version": "3.9.7"
  },
  "orig_nbformat": 4
 },
 "nbformat": 4,
 "nbformat_minor": 2
}
