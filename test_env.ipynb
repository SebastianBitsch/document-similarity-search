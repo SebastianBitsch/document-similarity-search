{
 "cells": [
  {
   "cell_type": "code",
   "execution_count": 1,
   "metadata": {},
   "outputs": [],
   "source": [
    "#\n",
    "import numpy as np\n",
    "import matplotlib.pyplot as plt\n",
    "from tqdm import tqdm\n",
    "from sklearn.feature_extraction.text import TfidfVectorizer\n",
    "from sklearn.metrics import mean_squared_error\n",
    "from sklearn.metrics import average_precision_score\n",
    "from sklearn.metrics import PrecisionRecallDisplay, precision_recall_curve\n",
    "#\n",
    "from sklearn.linear_model import LogisticRegression\n",
    "import multiprocessing\n",
    "\n",
    "import xgboost as xgb\n",
    "xgb.set_config(verbosity=1)\n",
    "\n",
    "#\n",
    "from util.Util import plot_accuracies, read_csv\n",
    "from df_features import DataFrameFeatures\n",
    "from df_classifier import DataFrameClassifier\n",
    "\n",
    "file_names = ['Computer vision','Consulting','Fintech','Fish processing equipment','Healthcare','House builders','Industrial vertical investor','Innovative','IoT','IT freelance','M&A advisors','Manufacturers','Online games','Payments tech','PE fund','Procurement software','Resource-efficiency','SaaS','Sustainability','Wind turbine tech']"
   ]
  },
  {
   "cell_type": "code",
   "execution_count": 2,
   "metadata": {},
   "outputs": [
    {
     "name": "stdout",
     "output_type": "stream",
     "text": [
      "* Reading CSV from path: util/glove/glove.42B.300d.txt. Size: (1917494, 300)\n"
     ]
    },
    {
     "name": "stderr",
     "output_type": "stream",
     "text": [
      "1917494it [00:15, 120424.09it/s]\n"
     ]
    }
   ],
   "source": [
    "# Read GLOVE embeddings from file\n",
    "glove_df = read_csv('util/glove/glove.42B.300d.txt', sep=\" \", index_col=0, quoting=3, header=None)\n",
    "glove_embeddings = {key: val.values for key, val in tqdm(glove_df.T.items())}\n",
    "del glove_df # Delete glove_df to free up memory"
   ]
  },
  {
   "cell_type": "code",
   "execution_count": 3,
   "metadata": {},
   "outputs": [
    {
     "name": "stdout",
     "output_type": "stream",
     "text": [
      "* Reading CSV from path: data/processed_data/cleaned_v1.csv. Size: (60122, 7)\n"
     ]
    }
   ],
   "source": [
    "# Read the cleaned dataframe\n",
    "full_df = read_csv('data/processed_data/cleaned_v1.csv')\n",
    "\n",
    "# Create tf-idf vectorizer using the main col and a max of 250 features\n",
    "main_col = 'description_no_stopwords_stemmed'\n",
    "vectorizer = TfidfVectorizer(max_features=250)\n",
    "vectorizer.fit_transform(full_df[main_col])\n",
    "\n",
    "full_dff = DataFrameFeatures(df=full_df, vectorizer=vectorizer, main_col=main_col, verbose=False)"
   ]
  },
  {
   "cell_type": "code",
   "execution_count": 7,
   "metadata": {},
   "outputs": [],
   "source": [
    "# SHOULD GIVE HIGHER ACCURACY WHEN TRAINING AND TESTING ON THE SAME  # 0.55\n",
    "dfc1 = DataFrameClassifier(dff=full_dff, glove_embeddings=glove_embeddings, file_name='Computer vision', verbose=False)\n",
    "X_train, y_train = dfc1.get_feature_vectors(split=False)\n",
    "\n",
    "dfc2 = DataFrameClassifier(dff=full_dff, glove_embeddings=glove_embeddings, file_name='Fish processing equipment', verbose=False)\n",
    "X_test, y_test = dfc2.get_feature_vectors(split=False)\n",
    "\n",
    "# dfc1 = DataFrameClassifier(dff=full_dff, glove_embeddings=glove_embeddings, file_name='Fintech', verbose=False)\n",
    "# X_train = dfc1.dff.fitted_vectorizer.toarray()\n",
    "# _, y_train = dfc1.get_feature_vectors(split=False)\n",
    "\n",
    "# dfc2 = DataFrameClassifier(dff=full_dff, glove_embeddings=glove_embeddings, file_name='Fish processing equipment', verbose=False)\n",
    "# X_test = dfc2.dff.fitted_vectorizer.toarray()\n",
    "# _, y_test = dfc2.get_feature_vectors(split=False)\n",
    "\n",
    "# clf = LogisticRegression(random_state=0, class_weight='balanced', fit_intercept=False, n_jobs=multiprocessing.cpu_count() // 2).fit(X_train, y_train)\n",
    "\n",
    "xg_b = xgb.XGBRegressor(objective ='binary:logistic', eval_metric='map')\n",
    "_ = xg_b.fit(X_train, y_train)\n"
   ]
  },
  {
   "cell_type": "code",
   "execution_count": 8,
   "metadata": {},
   "outputs": [
    {
     "data": {
      "text/plain": [
       "0.33445350593450673"
      ]
     },
     "execution_count": 8,
     "metadata": {},
     "output_type": "execute_result"
    }
   ],
   "source": [
    "\n",
    "preds = xg_b.predict(X_test)\n",
    "average_precision_score(y_test, preds)"
   ]
  },
  {
   "cell_type": "code",
   "execution_count": 8,
   "metadata": {},
   "outputs": [
    {
     "data": {
      "text/plain": [
       "<sklearn.metrics._plot.precision_recall_curve.PrecisionRecallDisplay at 0x1575d1fa0>"
      ]
     },
     "execution_count": 8,
     "metadata": {},
     "output_type": "execute_result"
    },
    {
     "data": {
      "image/png": "[encoded data removed]",
      "text/plain": [
       "<Figure size 432x288 with 1 Axes>"
      ]
     },
     "metadata": {
      "needs_background": "light"
     },
     "output_type": "display_data"
    }
   ],
   "source": [
    "from sklearn.metrics import PrecisionRecallDisplay, precision_recall_curve\n",
    "\n",
    "precision, recall, _ = precision_recall_curve(y_test, preds)\n",
    "disp = PrecisionRecallDisplay(precision=precision, recall=recall)\n",
    "disp.plot()\n"
   ]
  },
  {
   "cell_type": "code",
   "execution_count": null,
   "metadata": {},
   "outputs": [],
   "source": []
  },
  {
   "cell_type": "code",
   "execution_count": null,
   "metadata": {},
   "outputs": [],
   "source": [
    "clf.coef_"
   ]
  },
  {
   "cell_type": "code",
   "execution_count": null,
   "metadata": {},
   "outputs": [],
   "source": [
    "dfc1 = DataFrameClassifier(dff=full_dff, glove_embeddings=glove_embeddings, file_name='Computer vision')\n",
    "X_train, y_train = dfc1.get_feature_vectors(split=False)\n",
    "\n",
    "dfc2 = DataFrameClassifier(dff=full_dff, glove_embeddings=glove_embeddings, file_name='Consulting')\n",
    "X_test, y_test = dfc2.get_feature_vectors(split=False)\n"
   ]
  },
  {
   "cell_type": "code",
   "execution_count": null,
   "metadata": {},
   "outputs": [],
   "source": [
    "dfc1.dff.overlapping_words_rank(text)"
   ]
  },
  {
   "cell_type": "code",
   "execution_count": null,
   "metadata": {},
   "outputs": [],
   "source": [
    "from sklearn.metrics.pairwise import cosine_similarity\n",
    "\n",
    "np.array([cosine_similarity([x],query_vector)[0][0] for x in dfc1.dff.fitted_vectorizer.toarray()])"
   ]
  },
  {
   "cell_type": "code",
   "execution_count": null,
   "metadata": {},
   "outputs": [],
   "source": [
    "dfc1 = DataFrameClassifier(dff=full_dff, glove_embeddings=glove_embeddings, file_name='Computer vision')\n",
    "X_train = dfc1.dff.fitted_vectorizer.toarray()\n",
    "_, y_train = dfc1.get_feature_vectors(split=False)\n",
    "\n",
    "dfc2 = DataFrameClassifier(dff=full_dff, glove_embeddings=glove_embeddings, file_name='Consulting')\n",
    "X_test = dfc2.dff.fitted_vectorizer.toarray()\n",
    "_, y_test = dfc2.get_feature_vectors(split=False)\n",
    "\n",
    "xg_reg = xgb.XGBRegressor(objective ='rank:map', eval_metric='map', n_jobs=multiprocessing.cpu_count() // 2)\n",
    "\n",
    "xg_reg.fit(X_train, y_train)\n",
    "\n",
    "preds = xg_reg.predict(X_test)\n",
    "score = np.sqrt(mean_squared_error(y_test, preds))\n",
    "print(score)\n",
    "preds = xg_reg.predict(X_train)\n",
    "score = np.sqrt(mean_squared_error(y_train, preds))\n",
    "score"
   ]
  },
  {
   "cell_type": "code",
   "execution_count": 1,
   "metadata": {},
   "outputs": [
    {
     "ename": "NameError",
     "evalue": "name 'DataFrameClassifier' is not defined",
     "output_type": "error",
     "traceback": [
      "\u001b[0;31m---------------------------------------------------------------------------\u001b[0m",
      "\u001b[0;31mNameError\u001b[0m                                 Traceback (most recent call last)",
      "\u001b[0;32m/var/folders/kg/87d0nmxn11xbzs39mwh7hjvr0000gn/T/ipykernel_46264/2163875198.py\u001b[0m in \u001b[0;36m<module>\u001b[0;34m\u001b[0m\n\u001b[0;32m----> 1\u001b[0;31m \u001b[0mdfc1\u001b[0m \u001b[0;34m=\u001b[0m \u001b[0mDataFrameClassifier\u001b[0m\u001b[0;34m(\u001b[0m\u001b[0mdff\u001b[0m\u001b[0;34m=\u001b[0m\u001b[0mfull_dff\u001b[0m\u001b[0;34m,\u001b[0m \u001b[0mglove_embeddings\u001b[0m\u001b[0;34m=\u001b[0m\u001b[0mglove_embeddings\u001b[0m\u001b[0;34m,\u001b[0m \u001b[0mfile_name\u001b[0m\u001b[0;34m=\u001b[0m\u001b[0;34m'Computer vision'\u001b[0m\u001b[0;34m)\u001b[0m\u001b[0;34m\u001b[0m\u001b[0;34m\u001b[0m\u001b[0m\n\u001b[0m\u001b[1;32m      2\u001b[0m \u001b[0mX_train\u001b[0m \u001b[0;34m=\u001b[0m \u001b[0mdfc1\u001b[0m\u001b[0;34m.\u001b[0m\u001b[0mdff\u001b[0m\u001b[0;34m.\u001b[0m\u001b[0mfitted_vectorizer\u001b[0m\u001b[0;34m.\u001b[0m\u001b[0mtoarray\u001b[0m\u001b[0;34m(\u001b[0m\u001b[0;34m)\u001b[0m\u001b[0;34m\u001b[0m\u001b[0;34m\u001b[0m\u001b[0m\n\u001b[1;32m      3\u001b[0m \u001b[0m_\u001b[0m\u001b[0;34m,\u001b[0m \u001b[0my_train\u001b[0m \u001b[0;34m=\u001b[0m \u001b[0mdfc1\u001b[0m\u001b[0;34m.\u001b[0m\u001b[0mget_feature_vectors\u001b[0m\u001b[0;34m(\u001b[0m\u001b[0msplit\u001b[0m\u001b[0;34m=\u001b[0m\u001b[0;32mFalse\u001b[0m\u001b[0;34m)\u001b[0m\u001b[0;34m\u001b[0m\u001b[0;34m\u001b[0m\u001b[0m\n\u001b[1;32m      4\u001b[0m \u001b[0;34m\u001b[0m\u001b[0m\n\u001b[1;32m      5\u001b[0m \u001b[0mdfc2\u001b[0m \u001b[0;34m=\u001b[0m \u001b[0mDataFrameClassifier\u001b[0m\u001b[0;34m(\u001b[0m\u001b[0mdff\u001b[0m\u001b[0;34m=\u001b[0m\u001b[0mfull_dff\u001b[0m\u001b[0;34m,\u001b[0m \u001b[0mglove_embeddings\u001b[0m\u001b[0;34m=\u001b[0m\u001b[0mglove_embeddings\u001b[0m\u001b[0;34m,\u001b[0m \u001b[0mfile_name\u001b[0m\u001b[0;34m=\u001b[0m\u001b[0;34m'Consulting'\u001b[0m\u001b[0;34m)\u001b[0m\u001b[0;34m\u001b[0m\u001b[0;34m\u001b[0m\u001b[0m\n",
      "\u001b[0;31mNameError\u001b[0m: name 'DataFrameClassifier' is not defined"
     ]
    }
   ],
   "source": [
    "dfc1 = DataFrameClassifier(dff=full_dff, glove_embeddings=glove_embeddings, file_name='Computer vision')\n",
    "X_train = dfc1.dff.fitted_vectorizer.toarray()\n",
    "_, y_train = dfc1.get_feature_vectors(split=False)\n",
    "\n",
    "dfc2 = DataFrameClassifier(dff=full_dff, glove_embeddings=glove_embeddings, file_name='Consulting')\n",
    "X_test = dfc2.dff.fitted_vectorizer.toarray()\n",
    "_, y_test = dfc2.get_feature_vectors(split=False)\n",
    "\n",
    "clf = LogisticRegression(random_state=0, class_weight='balanced', fit_intercept=False, n_jobs=multiprocessing.cpu_count() // 2).fit(X_train, y_train)\n",
    "print(clf.score(X_test, y_test))\n",
    "print(clf.score(X_train, y_train))"
   ]
  },
  {
   "cell_type": "code",
   "execution_count": null,
   "metadata": {},
   "outputs": [],
   "source": [
    "from sklearn.metrics import average_precision_score\n",
    "\n",
    "average_precision_score()"
   ]
  },
  {
   "cell_type": "code",
   "execution_count": null,
   "metadata": {},
   "outputs": [],
   "source": []
  },
  {
   "cell_type": "code",
   "execution_count": 31,
   "metadata": {},
   "outputs": [],
   "source": [
    "\n",
    "dfc1 = DataFrameClassifier(dff=full_dff, glove_embeddings=glove_embeddings, file_name='Computer vision', verbose=False)\n",
    "X_train, y_train = dfc1.get_feature_vectors(split=False)\n",
    "\n",
    "dfc2 = DataFrameClassifier(dff=full_dff, glove_embeddings=glove_embeddings, file_name='Fish processing equipment', verbose=False)\n",
    "X_test, y_test = dfc2.get_feature_vectors(split=False)\n",
    "\n",
    "clf = LogisticRegression(random_state=0, class_weight='balanced', fit_intercept=False, n_jobs=multiprocessing.cpu_count() // 2).fit(X_train, y_train)\n",
    "#xg_reg = xgb.XGBRegressor(objective ='binary:logistic', eval_metric='map', n_jobs=multiprocessing.cpu_count() // 2).fit(X_train, y_train)"
   ]
  },
  {
   "cell_type": "code",
   "execution_count": 34,
   "metadata": {},
   "outputs": [
    {
     "data": {
      "image/png": "[encoded data removed]",
      "text/plain": [
       "<Figure size 432x288 with 1 Axes>"
      ]
     },
     "metadata": {
      "needs_background": "light"
     },
     "output_type": "display_data"
    }
   ],
   "source": [
    "preds = xg_reg.predict(X_test)\n",
    "\n",
    "PrecisionRecallDisplay.from_predictions(y_test, preds,name=\"XGBoost\")\n",
    "plt.show()"
   ]
  },
  {
   "cell_type": "code",
   "execution_count": 35,
   "metadata": {},
   "outputs": [
    {
     "name": "stdout",
     "output_type": "stream",
     "text": [
      "Average precision: 0.30496221509588284\n"
     ]
    },
    {
     "data": {
      "image/png": "[encoded data removed]",
      "text/plain": [
       "<Figure size 432x288 with 1 Axes>"
      ]
     },
     "metadata": {
      "needs_background": "light"
     },
     "output_type": "display_data"
    }
   ],
   "source": [
    "ap = average_precision_score(y_test,clf.decision_function(X_test))\n",
    "print(f\"Average precision: {ap}\")\n",
    "\n",
    "PrecisionRecallDisplay.from_estimator(clf, X_test, y_test,name=\"Logistic\")\n",
    "plt.show()"
   ]
  },
  {
   "cell_type": "markdown",
   "metadata": {},
   "source": [
    "### train one test all"
   ]
  },
  {
   "cell_type": "code",
   "execution_count": 4,
   "metadata": {},
   "outputs": [
    {
     "name": "stderr",
     "output_type": "stream",
     "text": [
      "100%|██████████| 20/20 [00:01<00:00, 18.77it/s]\n",
      "20it [03:54, 11.72s/it]\n"
     ]
    }
   ],
   "source": [
    "dfcs = {}\n",
    "predictions = [[] for _ in range(len(file_names))]\n",
    "accuracies = [[] for _ in range(len(file_names))]\n",
    "\n",
    "# Create all the dfcs once\n",
    "for file_name in tqdm(file_names):\n",
    "    dfcs[file_name] = DataFrameClassifier(dff=full_dff, glove_embeddings=glove_embeddings, file_name=file_name, verbose=False)\n",
    "\n",
    "# Calculate the accuracies\n",
    "for i, train_file in tqdm(enumerate(file_names)):\n",
    "\n",
    "    #X_train, y_train = dfcs[train_file].get_feature_vectors(split=False)\n",
    "    X_train = dfcs[train_file].dff.fitted_vectorizer.toarray()\n",
    "    _, y_train = dfcs[train_file].get_feature_vectors(split=False)\n",
    "\n",
    "    for test_file in file_names:\n",
    "        #X_test, y_test = dfcs[test_file].get_feature_vectors(split=False)\n",
    "        X_test = dfcs[test_file].dff.fitted_vectorizer.toarray()\n",
    "        _, y_test = dfcs[test_file].get_feature_vectors(split=False)\n",
    "\n",
    "        xg_reg = xgb.XGBRegressor(objective ='binary:logistic', eval_metric='map', n_jobs=multiprocessing.cpu_count() // 2).fit(X_train, y_train).fit(X_train, y_train)\n",
    "        preds = xg_reg.predict(X_test)\n",
    "        \n",
    "        score = np.sqrt(mean_squared_error(y_test, preds))\n",
    "        predictions[i].append(preds)\n",
    "        accuracies[i].append(score)"
   ]
  },
  {
   "cell_type": "code",
   "execution_count": 5,
   "metadata": {},
   "outputs": [],
   "source": [
    "avg_accuracies = [np.mean(x) for x in accuracies]\n",
    "acc = dict(zip(file_names, avg_accuracies))"
   ]
  },
  {
   "cell_type": "code",
   "execution_count": 6,
   "metadata": {},
   "outputs": [
    {
     "name": "stdout",
     "output_type": "stream",
     "text": [
      "Average accuracy: 0.5733675200946563\n",
      "---\n",
      "{'Computer vision': 0.5985386427753033, 'Consulting': 0.5306447633964371, 'Fintech': 0.5539540906516077, 'Fish processing equipment': 0.6696073727507705, 'Healthcare': 0.6108111440736649, 'House builders': 0.5743632830017719, 'Industrial vertical investor': 0.5479056802480146, 'Innovative': 0.5873130611496012, 'IoT': 0.6052741262222618, 'IT freelance': 0.5464988602703428, 'M&A advisors': 0.5562092997994845, 'Manufacturers': 0.5272866173092972, 'Online games': 0.5323105629768092, 'Payments tech': 0.5247014406281785, 'PE fund': 0.59213556757907, 'Procurement software': 0.6279393212864702, 'Resource-efficiency': 0.5681412896927563, 'SaaS': 0.5709281307402663, 'Sustainability': 0.5873324474515732, 'Wind turbine tech': 0.5554546998894458}\n"
     ]
    }
   ],
   "source": [
    "print(f\"Average accuracy: {np.mean(list(acc.values()))}\")\n",
    "print(\"---\")\n",
    "print(acc)"
   ]
  },
  {
   "cell_type": "code",
   "execution_count": 8,
   "metadata": {},
   "outputs": [
    {
     "data": {
      "image/png": "[encoded data removed]",
      "text/plain": [
       "<Figure size 1296x288 with 1 Axes>"
      ]
     },
     "metadata": {
      "needs_background": "light"
     },
     "output_type": "display_data"
    }
   ],
   "source": [
    "_,_ = plot_accuracies(acc, \"XGBoost\")\n",
    "plt.show()"
   ]
  },
  {
   "cell_type": "code",
   "execution_count": 9,
   "metadata": {},
   "outputs": [
    {
     "data": {
      "text/plain": [
       "<matplotlib.image.AxesImage at 0x154526850>"
      ]
     },
     "execution_count": 9,
     "metadata": {},
     "output_type": "execute_result"
    },
    {
     "data": {
      "image/png": "[encoded data removed]",
      "text/plain": [
       "<Figure size 432x288 with 1 Axes>"
      ]
     },
     "metadata": {
      "needs_background": "light"
     },
     "output_type": "display_data"
    }
   ],
   "source": [
    "plt.imshow(accuracies)"
   ]
  },
  {
   "cell_type": "code",
   "execution_count": null,
   "metadata": {},
   "outputs": [],
   "source": []
  },
  {
   "cell_type": "code",
   "execution_count": null,
   "metadata": {},
   "outputs": [],
   "source": []
  },
  {
   "cell_type": "code",
   "execution_count": null,
   "metadata": {},
   "outputs": [],
   "source": []
  }
 ],
 "metadata": {
  "interpreter": {
   "hash": "c6e4e9f98eb68ad3b7c296f83d20e6de614cb42e90992a65aa266555a3137d0d"
  },
  "kernelspec": {
   "display_name": "Python 3.9.6",
   "language": "python",
   "name": "python3"
  },
  "language_info": {
   "codemirror_mode": {
    "name": "ipython",
    "version": 3
   },
   "file_extension": ".py",
   "mimetype": "text/x-python",
   "name": "python",
   "nbconvert_exporter": "python",
   "pygments_lexer": "ipython3",
   "version": "3.9.6"
  },
  "orig_nbformat": 4
 },
 "nbformat": 4,
 "nbformat_minor": 2
}
